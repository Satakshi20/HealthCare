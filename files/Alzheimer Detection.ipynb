{
 "cells": [
  {
   "cell_type": "markdown",
   "id": "4b4a2996",
   "metadata": {},
   "source": [
    "  ALZHEIMER"
   ]
  },
  {
   "cell_type": "code",
   "execution_count": 1,
   "id": "33eb65ce",
   "metadata": {},
   "outputs": [],
   "source": [
    "import os\n",
    "import cv2\n",
    "import numpy as np\n",
    "import matplotlib.pyplot as plt\n",
    "from tensorflow.keras.utils import to_categorical\n",
    "from tensorflow.keras.layers import Dense,Flatten,Conv2D,MaxPooling2D,Dropout,AveragePooling2D\n",
    "from tensorflow.keras.models import Sequential\n",
    "from tensorflow.keras.optimizers import Adam\n",
    "from tensorflow.keras.applications.vgg19 import VGG19\n",
    "from tensorflow.keras.applications.vgg19 import preprocess_input\n",
    "from tensorflow.keras.models import Model\n",
    "import tensorflow\n",
    "import keras\n",
    "from tensorflow.keras.applications.vgg19 import preprocess_input\n",
    "from tensorflow.keras.preprocessing import image, image_dataset_from_directory\n",
    "from tensorflow.keras.preprocessing.image import ImageDataGenerator"
   ]
  },
  {
   "cell_type": "code",
   "execution_count": 3,
   "id": "b397a5f0",
   "metadata": {},
   "outputs": [
    {
     "name": "stdout",
     "output_type": "stream",
     "text": [
      "Found 4098 images belonging to 4 classes.\n",
      "Found 1023 images belonging to 4 classes.\n",
      "Found 1279 images belonging to 4 classes.\n"
     ]
    }
   ],
   "source": [
    "image_generator = ImageDataGenerator(rescale=1/255, validation_split=0.2)\n",
    "\n",
    "train_dataset = image_generator.flow_from_directory(batch_size=8,\n",
    "                                                 directory='E:/Downloads/disease detection/alzheimer/Alzheimer_s Dataset/train',\n",
    "                                                 shuffle=True,\n",
    "                                                 target_size=(176,208), \n",
    "                                                 subset=\"training\",\n",
    "                                                 class_mode='categorical')\n",
    "\n",
    "validation_dataset = image_generator.flow_from_directory(batch_size=8,\n",
    "                                                 directory='E:/Downloads/disease detection/alzheimer/Alzheimer_s Dataset/train',\n",
    "                                                 shuffle=True,\n",
    "                                                 target_size=(176,208), \n",
    "                                                 subset=\"validation\",\n",
    "                                                 class_mode='categorical')\n",
    "\n",
    "image_generator_submission = ImageDataGenerator(rescale=1/255) \n",
    "submission = image_generator_submission.flow_from_directory(\n",
    "                                                 directory='E:/Downloads/disease detection/alzheimer/Alzheimer_s Dataset/test',\n",
    "                                                 shuffle=False,\n",
    "                                                 target_size=(176,208), \n",
    "                                                 class_mode='categorical')"
   ]
  },
  {
   "cell_type": "code",
   "execution_count": 3,
   "id": "bc88896e",
   "metadata": {},
   "outputs": [
    {
     "name": "stdout",
     "output_type": "stream",
     "text": [
      "Model: \"model\"\n",
      "_________________________________________________________________\n",
      " Layer (type)                Output Shape              Param #   \n",
      "=================================================================\n",
      " input_1 (InputLayer)        [(None, 208, 176, 3)]     0         \n",
      "                                                                 \n",
      " block1_conv1 (Conv2D)       (None, 208, 176, 64)      1792      \n",
      "                                                                 \n",
      " block1_conv2 (Conv2D)       (None, 208, 176, 64)      36928     \n",
      "                                                                 \n",
      " block1_pool (MaxPooling2D)  (None, 104, 88, 64)       0         \n",
      "                                                                 \n",
      " block2_conv1 (Conv2D)       (None, 104, 88, 128)      73856     \n",
      "                                                                 \n",
      " block2_conv2 (Conv2D)       (None, 104, 88, 128)      147584    \n",
      "                                                                 \n",
      " block2_pool (MaxPooling2D)  (None, 52, 44, 128)       0         \n",
      "                                                                 \n",
      " block3_conv1 (Conv2D)       (None, 52, 44, 256)       295168    \n",
      "                                                                 \n",
      " block3_conv2 (Conv2D)       (None, 52, 44, 256)       590080    \n",
      "                                                                 \n",
      " block3_conv3 (Conv2D)       (None, 52, 44, 256)       590080    \n",
      "                                                                 \n",
      " block3_conv4 (Conv2D)       (None, 52, 44, 256)       590080    \n",
      "                                                                 \n",
      " block3_pool (MaxPooling2D)  (None, 26, 22, 256)       0         \n",
      "                                                                 \n",
      " block4_conv1 (Conv2D)       (None, 26, 22, 512)       1180160   \n",
      "                                                                 \n",
      " block4_conv2 (Conv2D)       (None, 26, 22, 512)       2359808   \n",
      "                                                                 \n",
      " block4_conv3 (Conv2D)       (None, 26, 22, 512)       2359808   \n",
      "                                                                 \n",
      " block4_conv4 (Conv2D)       (None, 26, 22, 512)       2359808   \n",
      "                                                                 \n",
      " block4_pool (MaxPooling2D)  (None, 13, 11, 512)       0         \n",
      "                                                                 \n",
      " block5_conv1 (Conv2D)       (None, 13, 11, 512)       2359808   \n",
      "                                                                 \n",
      " block5_conv2 (Conv2D)       (None, 13, 11, 512)       2359808   \n",
      "                                                                 \n",
      " block5_conv3 (Conv2D)       (None, 13, 11, 512)       2359808   \n",
      "                                                                 \n",
      " block5_conv4 (Conv2D)       (None, 13, 11, 512)       2359808   \n",
      "                                                                 \n",
      " block5_pool (MaxPooling2D)  (None, 6, 5, 512)         0         \n",
      "                                                                 \n",
      " flatten (Flatten)           (None, 15360)             0         \n",
      "                                                                 \n",
      " dense (Dense)               (None, 4)                 61444     \n",
      "                                                                 \n",
      "=================================================================\n",
      "Total params: 20,085,828\n",
      "Trainable params: 61,444\n",
      "Non-trainable params: 20,024,384\n",
      "_________________________________________________________________\n"
     ]
    }
   ],
   "source": [
    "vgg = VGG19(input_shape=(208,176,3), weights='imagenet', include_top=False)\n",
    "for layer in vgg.layers:\n",
    "    layer.trainable = False\n",
    "x = Flatten()(vgg.output)\n",
    "\n",
    "prediction = Dense(4, activation='softmax')(x)\n",
    "\n",
    "modelvgg = Model(inputs=vgg.input, outputs=prediction)\n",
    "modelvgg.summary()"
   ]
  },
  {
   "cell_type": "code",
   "execution_count": 4,
   "id": "7c376662",
   "metadata": {},
   "outputs": [],
   "source": [
    "modelvgg.compile(optimizer='adam',\n",
    "loss=tensorflow.losses.CategoricalCrossentropy(),\n",
    "metrics=[keras.metrics.AUC(name='auc')])\n",
    "callback = keras.callbacks.EarlyStopping(monitor='val_loss',\n",
    "                                            patience=8,\n",
    "                                            restore_best_weights=True)"
   ]
  },
  {
   "cell_type": "code",
   "execution_count": 8,
   "id": "10e2c4eb",
   "metadata": {},
   "outputs": [
    {
     "name": "stdout",
     "output_type": "stream",
     "text": [
      "Epoch 1/5\n",
      "513/513 [==============================] - 704s 1s/step - loss: 0.9667 - auc: 0.8551 - val_loss: 1.1580 - val_auc: 0.7696\n",
      "Epoch 2/5\n",
      "513/513 [==============================] - 654s 1s/step - loss: 0.6980 - auc: 0.9194 - val_loss: 1.1597 - val_auc: 0.8238\n",
      "Epoch 3/5\n",
      "513/513 [==============================] - 658s 1s/step - loss: 0.5357 - auc: 0.9487 - val_loss: 1.0842 - val_auc: 0.8303\n",
      "Epoch 4/5\n",
      "513/513 [==============================] - 636s 1s/step - loss: 0.4288 - auc: 0.9662 - val_loss: 0.9865 - val_auc: 0.8526\n",
      "Epoch 5/5\n",
      "513/513 [==============================] - 635s 1s/step - loss: 0.3969 - auc: 0.9708 - val_loss: 1.2172 - val_auc: 0.8546\n"
     ]
    },
    {
     "data": {
      "text/plain": [
       "<keras.callbacks.History at 0x17472fe9700>"
      ]
     },
     "execution_count": 8,
     "metadata": {},
     "output_type": "execute_result"
    }
   ],
   "source": [
    "modelvgg.fit(train_dataset, epochs=5, validation_data=validation_dataset, callbacks=callback)"
   ]
  },
  {
   "cell_type": "code",
   "execution_count": 10,
   "id": "4398a69d",
   "metadata": {},
   "outputs": [],
   "source": [
    "ModelToJSON=modelvgg.to_json()"
   ]
  },
  {
   "cell_type": "code",
   "execution_count": 11,
   "id": "3c9ee8e6",
   "metadata": {},
   "outputs": [],
   "source": [
    "obj=open(\"D:/Datasets/AlzheimerDetection.json\",\"w\")\n",
    "obj.write(ModelToJSON)\n",
    "obj.close()"
   ]
  },
  {
   "cell_type": "code",
   "execution_count": 12,
   "id": "4682e524",
   "metadata": {},
   "outputs": [],
   "source": [
    "modelvgg.save_weights(\"D:/Datasets/AlzheimerDetection.h5\")"
   ]
  },
  {
   "cell_type": "code",
   "execution_count": 8,
   "id": "c54a0916",
   "metadata": {},
   "outputs": [
    {
     "name": "stdout",
     "output_type": "stream",
     "text": [
      "128/128 [==============================] - 116s 904ms/step - loss: 0.9138 - auc: 0.8983\n",
      "Loss:  0.9137775897979736\n",
      "Accuracy:  0.8982507586479187\n"
     ]
    }
   ],
   "source": [
    "loss, accuracy = model.evaluate(validation_dataset)\n",
    "print(\"Loss: \", loss)\n",
    "print(\"Accuracy: \", accuracy)"
   ]
  },
  {
   "cell_type": "code",
   "execution_count": 9,
   "id": "628444db",
   "metadata": {},
   "outputs": [
    {
     "name": "stdout",
     "output_type": "stream",
     "text": [
      "40/40 [==============================] - 155s 4s/step - loss: 0.9301 - auc: 0.9025\n",
      "Loss:  0.9300808906555176\n",
      "Accuracy:  0.9025392532348633\n"
     ]
    }
   ],
   "source": [
    "loss, accuracy = model.evaluate(submission)\n",
    "print(\"Loss: \", loss)\n",
    "print(\"Accuracy: \", accuracy)"
   ]
  },
  {
   "cell_type": "raw",
   "id": "90472419",
   "metadata": {},
   "source": [
    "test_features=[]\n",
    "test_target=[]\n",
    "for i in range(4):\n",
    "    TestList = os.listdir(\"E:/Downloads/disease detection/alzheimer/Alzheimer_s Dataset/test/\" + str(i))\n",
    "    for j in TestList:\n",
    "        TestImg = cv2.imread(\"E:/Downloads/disease detection/alzheimer/Alzheimer_s Dataset/test/\" + str(i) + \"/\" + str(j))\n",
    "        test_features.append(TestImg)\n",
    "        test_target.append(i)"
   ]
  },
  {
   "cell_type": "code",
   "execution_count": 19,
   "id": "3a554bcb",
   "metadata": {},
   "outputs": [],
   "source": [
    "test_features=np.array(test_features)\n",
    "test_target=np.array(test_target)"
   ]
  },
  {
   "cell_type": "code",
   "execution_count": 54,
   "id": "16e02e83",
   "metadata": {
    "scrolled": true
   },
   "outputs": [
    {
     "data": {
      "text/plain": [
       "0.7898894829028174"
      ]
     },
     "execution_count": 54,
     "metadata": {},
     "output_type": "execute_result"
    }
   ],
   "source": [
    "result = modelvgg.predict(test_features)\n",
    "pred = np.zeros((1279,1))\n",
    "for i in range(1279):\n",
    "    pred[i] = np.max(result[i])\n",
    "acc = np.sum(np.square((test_target-pred)**2).mean(axis=0))/1279\n",
    "acc"
   ]
  },
  {
   "cell_type": "code",
   "execution_count": 2,
   "id": "b9a03531",
   "metadata": {},
   "outputs": [],
   "source": [
    "from tensorflow.keras.models import model_from_json\n",
    "abc=open(\"D:/Datasets/AlzheimerDetection.json\",\"r\")\n",
    "loaded_data=abc.read()\n",
    "model=model_from_json(loaded_data)\n",
    "model.load_weights(\"D:/Datasets/AlzheimerDetection.h5\")"
   ]
  },
  {
   "cell_type": "code",
   "execution_count": 5,
   "id": "39fbe710",
   "metadata": {},
   "outputs": [],
   "source": [
    "model.compile(optimizer='adam',\n",
    "loss=tensorflow.losses.CategoricalCrossentropy(),\n",
    "metrics=[keras.metrics.AUC(name='auc')])\n",
    "callback = keras.callbacks.EarlyStopping(monitor='val_loss',\n",
    "                                            patience=8,\n",
    "                                            restore_best_weights=True)"
   ]
  },
  {
   "cell_type": "code",
   "execution_count": 6,
   "id": "ef027399",
   "metadata": {},
   "outputs": [
    {
     "name": "stdout",
     "output_type": "stream",
     "text": [
      "Epoch 1/10\n",
      "513/513 [==============================] - 639s 1s/step - loss: 0.3913 - auc: 0.9730 - val_loss: 1.3240 - val_auc: 0.7979\n",
      "Epoch 2/10\n",
      "513/513 [==============================] - 671s 1s/step - loss: 0.2856 - auc: 0.9850 - val_loss: 1.7238 - val_auc: 0.7901\n",
      "Epoch 3/10\n",
      "513/513 [==============================] - 649s 1s/step - loss: 0.2627 - auc: 0.9874 - val_loss: 1.0125 - val_auc: 0.8649\n",
      "Epoch 4/10\n",
      "513/513 [==============================] - 659s 1s/step - loss: 0.2183 - auc: 0.9916 - val_loss: 1.1666 - val_auc: 0.8476\n",
      "Epoch 5/10\n",
      "513/513 [==============================] - 647s 1s/step - loss: 0.1977 - auc: 0.9933 - val_loss: 0.9200 - val_auc: 0.8834\n",
      "Epoch 6/10\n",
      "513/513 [==============================] - 647s 1s/step - loss: 0.2028 - auc: 0.9922 - val_loss: 1.0357 - val_auc: 0.8692\n",
      "Epoch 7/10\n",
      "513/513 [==============================] - 651s 1s/step - loss: 0.1475 - auc: 0.9966 - val_loss: 0.8719 - val_auc: 0.8901\n",
      "Epoch 8/10\n",
      "513/513 [==============================] - 671s 1s/step - loss: 0.1888 - auc: 0.9925 - val_loss: 1.0623 - val_auc: 0.8626\n",
      "Epoch 9/10\n",
      "513/513 [==============================] - 647s 1s/step - loss: 0.1234 - auc: 0.9978 - val_loss: 0.8415 - val_auc: 0.9013\n",
      "Epoch 10/10\n",
      "513/513 [==============================] - 840s 2s/step - loss: 0.1247 - auc: 0.9976 - val_loss: 0.9138 - val_auc: 0.8983\n"
     ]
    },
    {
     "data": {
      "text/plain": [
       "<keras.callbacks.History at 0x1f43d9eb5e0>"
      ]
     },
     "execution_count": 6,
     "metadata": {},
     "output_type": "execute_result"
    }
   ],
   "source": [
    "model.fit(train_dataset, epochs=10, validation_data=validation_dataset, callbacks=callback)"
   ]
  },
  {
   "cell_type": "code",
   "execution_count": 7,
   "id": "586f12d8",
   "metadata": {},
   "outputs": [],
   "source": [
    "ModelToJSON=model.to_json()\n",
    "obj=open(\"D:/Datasets/AlzheimerDetection.json\",\"w\")\n",
    "obj.write(ModelToJSON)\n",
    "obj.close()\n",
    "model.save_weights(\"D:/Datasets/AlzheimerDetection.h5\")"
   ]
  },
  {
   "cell_type": "code",
   "execution_count": null,
   "id": "3dc4b26b",
   "metadata": {},
   "outputs": [],
   "source": [
    "train_features=[]\n",
    "train_target=[]\n",
    "for i in range(4):\n",
    "    TrainList = os.listdir(\"E:/Downloads/disease detection/alzheimer/Alzheimer_s Dataset/train/\" + str(i))\n",
    "    for j in TrainList:\n",
    "        TrainImg = cv2.imread(\"E:/Downloads/disease detection/alzheimer/Alzheimer_s Dataset/train/\" + str(i) + \"/\" + str(j))\n",
    "        train_features.append(TrainImg)\n",
    "        train_target.append(i)"
   ]
  },
  {
   "cell_type": "code",
   "execution_count": null,
   "id": "a2a9ae26",
   "metadata": {},
   "outputs": [],
   "source": [
    "train_features=np.array(train_features)\n",
    "train_target=np.array(train_target)\n",
    "test_features=np.array(test_features)\n",
    "test_target=np.array(test_target)\n",
    "train_target=to_categorical(train_target)"
   ]
  }
 ],
 "metadata": {
  "kernelspec": {
   "display_name": "Python 3 (ipykernel)",
   "language": "python",
   "name": "python3"
  },
  "language_info": {
   "codemirror_mode": {
    "name": "ipython",
    "version": 3
   },
   "file_extension": ".py",
   "mimetype": "text/x-python",
   "name": "python",
   "nbconvert_exporter": "python",
   "pygments_lexer": "ipython3",
   "version": "3.9.7"
  }
 },
 "nbformat": 4,
 "nbformat_minor": 5
}
