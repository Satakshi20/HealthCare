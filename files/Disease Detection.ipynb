{
 "cells": [
  {
   "cell_type": "markdown",
   "id": "769da64e",
   "metadata": {},
   "source": [
    "# HEART DISEASE"
   ]
  },
  {
   "cell_type": "code",
   "execution_count": 1,
   "id": "1fb49c09",
   "metadata": {},
   "outputs": [],
   "source": [
    "import itertools\n",
    "import numpy as np\n",
    "import matplotlib.pyplot as plt\n",
    "from matplotlib.ticker import NullFormatter\n",
    "import pandas as pd\n",
    "pd.options.mode.chained_assignment = None\n",
    "import matplotlib.ticker as ticker\n",
    "from sklearn import preprocessing\n",
    "%matplotlib inline\n",
    "from sklearn.neighbors import KNeighborsClassifier"
   ]
  },
  {
   "cell_type": "code",
   "execution_count": 2,
   "id": "01edf7cc",
   "metadata": {},
   "outputs": [],
   "source": [
    "import pandas as pd\n",
    "pd.options.mode.chained_assignment = None\n",
    "from tensorflow.keras.layers import InputLayer,Dense, Activation,Dropout\n",
    "from tensorflow.keras.models import Sequential\n",
    "from tensorflow.keras.optimizers import Adam\n",
    "from sklearn.preprocessing import StandardScaler"
   ]
  },
  {
   "cell_type": "code",
   "execution_count": 9,
   "id": "ee7fb4bf",
   "metadata": {},
   "outputs": [],
   "source": [
    "df=pd.read_csv('E:/Downloads/disease detection/heart.csv')"
   ]
  },
  {
   "cell_type": "code",
   "execution_count": 10,
   "id": "2604d286",
   "metadata": {
    "scrolled": true
   },
   "outputs": [
    {
     "data": {
      "text/html": [
       "<div>\n",
       "<style scoped>\n",
       "    .dataframe tbody tr th:only-of-type {\n",
       "        vertical-align: middle;\n",
       "    }\n",
       "\n",
       "    .dataframe tbody tr th {\n",
       "        vertical-align: top;\n",
       "    }\n",
       "\n",
       "    .dataframe thead th {\n",
       "        text-align: right;\n",
       "    }\n",
       "</style>\n",
       "<table border=\"1\" class=\"dataframe\">\n",
       "  <thead>\n",
       "    <tr style=\"text-align: right;\">\n",
       "      <th></th>\n",
       "      <th>Age</th>\n",
       "      <th>Sex</th>\n",
       "      <th>ChestPainType</th>\n",
       "      <th>RestingBP</th>\n",
       "      <th>Cholesterol</th>\n",
       "      <th>FastingBS</th>\n",
       "      <th>RestingECG</th>\n",
       "      <th>MaxHR</th>\n",
       "      <th>ExerciseAngina</th>\n",
       "      <th>Oldpeak</th>\n",
       "      <th>ST_Slope</th>\n",
       "      <th>HeartDisease</th>\n",
       "    </tr>\n",
       "  </thead>\n",
       "  <tbody>\n",
       "    <tr>\n",
       "      <th>0</th>\n",
       "      <td>40</td>\n",
       "      <td>M</td>\n",
       "      <td>ATA</td>\n",
       "      <td>140</td>\n",
       "      <td>289</td>\n",
       "      <td>0</td>\n",
       "      <td>Normal</td>\n",
       "      <td>172</td>\n",
       "      <td>N</td>\n",
       "      <td>0.0</td>\n",
       "      <td>Up</td>\n",
       "      <td>0</td>\n",
       "    </tr>\n",
       "    <tr>\n",
       "      <th>1</th>\n",
       "      <td>49</td>\n",
       "      <td>F</td>\n",
       "      <td>NAP</td>\n",
       "      <td>160</td>\n",
       "      <td>180</td>\n",
       "      <td>0</td>\n",
       "      <td>Normal</td>\n",
       "      <td>156</td>\n",
       "      <td>N</td>\n",
       "      <td>1.0</td>\n",
       "      <td>Flat</td>\n",
       "      <td>1</td>\n",
       "    </tr>\n",
       "    <tr>\n",
       "      <th>2</th>\n",
       "      <td>37</td>\n",
       "      <td>M</td>\n",
       "      <td>ATA</td>\n",
       "      <td>130</td>\n",
       "      <td>283</td>\n",
       "      <td>0</td>\n",
       "      <td>ST</td>\n",
       "      <td>98</td>\n",
       "      <td>N</td>\n",
       "      <td>0.0</td>\n",
       "      <td>Up</td>\n",
       "      <td>0</td>\n",
       "    </tr>\n",
       "    <tr>\n",
       "      <th>3</th>\n",
       "      <td>48</td>\n",
       "      <td>F</td>\n",
       "      <td>ASY</td>\n",
       "      <td>138</td>\n",
       "      <td>214</td>\n",
       "      <td>0</td>\n",
       "      <td>Normal</td>\n",
       "      <td>108</td>\n",
       "      <td>Y</td>\n",
       "      <td>1.5</td>\n",
       "      <td>Flat</td>\n",
       "      <td>1</td>\n",
       "    </tr>\n",
       "    <tr>\n",
       "      <th>4</th>\n",
       "      <td>54</td>\n",
       "      <td>M</td>\n",
       "      <td>NAP</td>\n",
       "      <td>150</td>\n",
       "      <td>195</td>\n",
       "      <td>0</td>\n",
       "      <td>Normal</td>\n",
       "      <td>122</td>\n",
       "      <td>N</td>\n",
       "      <td>0.0</td>\n",
       "      <td>Up</td>\n",
       "      <td>0</td>\n",
       "    </tr>\n",
       "  </tbody>\n",
       "</table>\n",
       "</div>"
      ],
      "text/plain": [
       "   Age Sex ChestPainType  RestingBP  Cholesterol  FastingBS RestingECG  MaxHR  \\\n",
       "0   40   M           ATA        140          289          0     Normal    172   \n",
       "1   49   F           NAP        160          180          0     Normal    156   \n",
       "2   37   M           ATA        130          283          0         ST     98   \n",
       "3   48   F           ASY        138          214          0     Normal    108   \n",
       "4   54   M           NAP        150          195          0     Normal    122   \n",
       "\n",
       "  ExerciseAngina  Oldpeak ST_Slope  HeartDisease  \n",
       "0              N      0.0       Up             0  \n",
       "1              N      1.0     Flat             1  \n",
       "2              N      0.0       Up             0  \n",
       "3              Y      1.5     Flat             1  \n",
       "4              N      0.0       Up             0  "
      ]
     },
     "execution_count": 10,
     "metadata": {},
     "output_type": "execute_result"
    }
   ],
   "source": [
    "df.head()"
   ]
  },
  {
   "cell_type": "code",
   "execution_count": 6,
   "id": "2decba38",
   "metadata": {},
   "outputs": [
    {
     "data": {
      "text/plain": [
       "Age                50\n",
       "Sex                 2\n",
       "ChestPainType       4\n",
       "RestingBP          67\n",
       "Cholesterol       222\n",
       "FastingBS           2\n",
       "RestingECG          3\n",
       "MaxHR             119\n",
       "ExerciseAngina      2\n",
       "Oldpeak            53\n",
       "ST_Slope            3\n",
       "HeartDisease        2\n",
       "dtype: int64"
      ]
     },
     "execution_count": 6,
     "metadata": {},
     "output_type": "execute_result"
    }
   ],
   "source": [
    "df.nunique(axis=0)"
   ]
  },
  {
   "cell_type": "code",
   "execution_count": null,
   "id": "7862eb25",
   "metadata": {},
   "outputs": [],
   "source": [
    "RestingECG - Normal 0\n",
    "             ST     1\n",
    "             LHV    2\n",
    "ST_Slope - Flat 0\n",
    "           Up   1\n",
    "           Down 2\n",
    "ExerciseAngina - N 0\n",
    "                 Y 1\n",
    "ChestPainType - ATA 0\n",
    "                NAP 1\n",
    "                ASY 2\n",
    "                TA  3\n",
    "Sex - M 0\n",
    "      F 1\n",
    "      "
   ]
  },
  {
   "cell_type": "code",
   "execution_count": 11,
   "id": "df84e4ec",
   "metadata": {
    "scrolled": true
   },
   "outputs": [],
   "source": [
    "for i,j in enumerate(df[\"Sex\"]):\n",
    "    if j==\"M\":\n",
    "        df[\"Sex\"][i] = 0\n",
    "    else:\n",
    "        df[\"Sex\"][i] = 1\n",
    "        \n",
    "for i,j in enumerate(df[\"ChestPainType\"]):\n",
    "    if j==\"ATA\":\n",
    "        df[\"ChestPainType\"][i] = 0\n",
    "    elif j==\"NAP\":\n",
    "        df[\"ChestPainType\"][i] = 1\n",
    "    elif j==\"ASY\":\n",
    "        df[\"ChestPainType\"][i] = 2\n",
    "    else:\n",
    "        df[\"ChestPainType\"][i] = 3\n",
    "        \n",
    "for i,j in enumerate(df[\"RestingECG\"]):\n",
    "    if j==\"Normal\":\n",
    "        df[\"RestingECG\"][i] = 0\n",
    "    elif j==\"ST\":\n",
    "        df[\"RestingECG\"][i] = 1\n",
    "    else:\n",
    "        df[\"RestingECG\"][i] = 2\n",
    "\n",
    "for i,j in enumerate(df[\"ST_Slope\"]):\n",
    "    if j==\"Flat\":\n",
    "        df[\"ST_Slope\"][i] = 0\n",
    "    elif j==\"Up\":\n",
    "        df[\"ST_Slope\"][i] = 1\n",
    "    else:\n",
    "        df[\"ST_Slope\"][i] = 2\n",
    "        \n",
    "for i,j in enumerate(df[\"ExerciseAngina\"]):\n",
    "    if j==\"N\":\n",
    "        df[\"ExerciseAngina\"][i] = 0\n",
    "    else:\n",
    "        df[\"ExerciseAngina\"][i] = 1"
   ]
  },
  {
   "cell_type": "code",
   "execution_count": 12,
   "id": "2557dbac",
   "metadata": {},
   "outputs": [],
   "source": [
    "X = df[[\"Age\", \"Sex\", \"ChestPainType\", \"RestingBP\", \"Cholesterol\", \"FastingBS\", \"RestingECG\", \"MaxHR\", 'ExerciseAngina', \"Oldpeak\", \"ST_Slope\"]].values\n",
    "Y = df[\"HeartDisease\"].values"
   ]
  },
  {
   "cell_type": "code",
   "execution_count": 15,
   "id": "3f55f9c7",
   "metadata": {},
   "outputs": [],
   "source": [
    "X=preprocessing.StandardScaler().fit(X).transform(X.astype(float))"
   ]
  },
  {
   "cell_type": "code",
   "execution_count": 16,
   "id": "db91cc56",
   "metadata": {},
   "outputs": [
    {
     "name": "stdout",
     "output_type": "stream",
     "text": [
      "Train set: (734, 11) (734,)\n",
      "Test set: (184, 11) (184,)\n"
     ]
    }
   ],
   "source": [
    "from sklearn.model_selection import train_test_split\n",
    "X_train, X_test, y_train, y_test = train_test_split( X, Y, test_size=0.2, random_state=4)\n",
    "print ('Train set:', X_train.shape,  y_train.shape)\n",
    "print ('Test set:', X_test.shape,  y_test.shape)"
   ]
  },
  {
   "cell_type": "markdown",
   "id": "785b4431",
   "metadata": {},
   "source": [
    "KNN"
   ]
  },
  {
   "cell_type": "code",
   "execution_count": 25,
   "id": "f043abbf",
   "metadata": {},
   "outputs": [],
   "source": [
    "k=2\n",
    "neigh=KNeighborsClassifier(n_neighbors=k).fit(X_train,y_train)\n",
    "yhat=neigh.predict(X_test)"
   ]
  },
  {
   "cell_type": "code",
   "execution_count": 26,
   "id": "a893fdb8",
   "metadata": {},
   "outputs": [
    {
     "name": "stdout",
     "output_type": "stream",
     "text": [
      "Train set Accuracy:  0.8978201634877384\n",
      "Test set Accuracy:  0.8260869565217391\n"
     ]
    }
   ],
   "source": [
    "from sklearn import metrics\n",
    "print(\"Train set Accuracy: \", metrics.accuracy_score(y_train, neigh.predict(X_train)))\n",
    "print(\"Test set Accuracy: \", metrics.accuracy_score(y_test, yhat))"
   ]
  },
  {
   "cell_type": "code",
   "execution_count": 27,
   "id": "1db2d411",
   "metadata": {},
   "outputs": [],
   "source": [
    "import pickle\n",
    "\n",
    "knnPickle = open('Heart Disease', 'wb') \n",
    "pickle.dump(neigh, knnPickle)\n",
    "knnPickle.close()\n"
   ]
  },
  {
   "cell_type": "code",
   "execution_count": 28,
   "id": "6cb2ad8e",
   "metadata": {},
   "outputs": [],
   "source": [
    "loaded_model = pickle.load(open('Heart Disease', 'rb'))\n",
    "result = loaded_model.predict(X_test) "
   ]
  },
  {
   "cell_type": "code",
   "execution_count": 30,
   "id": "cedb88d6",
   "metadata": {},
   "outputs": [
    {
     "name": "stdout",
     "output_type": "stream",
     "text": [
      "Test set Accuracy:  0.8260869565217391\n"
     ]
    }
   ],
   "source": [
    "print(\"Test set Accuracy: \", metrics.accuracy_score(y_test, result))"
   ]
  },
  {
   "cell_type": "markdown",
   "id": "f30fbb82",
   "metadata": {},
   "source": [
    "ANN"
   ]
  },
  {
   "cell_type": "code",
   "execution_count": 59,
   "id": "5a1d599f",
   "metadata": {},
   "outputs": [
    {
     "name": "stdout",
     "output_type": "stream",
     "text": [
      "Epoch 1/100\n",
      "23/23 [==============================] - 2s 4ms/step - loss: 0.7056 - accuracy: 0.4809\n",
      "Epoch 2/100\n",
      "23/23 [==============================] - 0s 4ms/step - loss: 0.6666 - accuracy: 0.7112\n",
      "Epoch 3/100\n",
      "23/23 [==============================] - 0s 3ms/step - loss: 0.6113 - accuracy: 0.7929\n",
      "Epoch 4/100\n",
      "23/23 [==============================] - 0s 3ms/step - loss: 0.5465 - accuracy: 0.8147\n",
      "Epoch 5/100\n",
      "23/23 [==============================] - 0s 6ms/step - loss: 0.4878 - accuracy: 0.8215\n",
      "Epoch 6/100\n",
      "23/23 [==============================] - 0s 5ms/step - loss: 0.4439 - accuracy: 0.8256\n",
      "Epoch 7/100\n",
      "23/23 [==============================] - 0s 4ms/step - loss: 0.4118 - accuracy: 0.8338\n",
      "Epoch 8/100\n",
      "23/23 [==============================] - 0s 6ms/step - loss: 0.3954 - accuracy: 0.8379\n",
      "Epoch 9/100\n",
      "23/23 [==============================] - 0s 7ms/step - loss: 0.3833 - accuracy: 0.8406\n",
      "Epoch 10/100\n",
      "23/23 [==============================] - 0s 8ms/step - loss: 0.3761 - accuracy: 0.8420\n",
      "Epoch 11/100\n",
      "23/23 [==============================] - 0s 5ms/step - loss: 0.3712 - accuracy: 0.8447\n",
      "Epoch 12/100\n",
      "23/23 [==============================] - 0s 6ms/step - loss: 0.3658 - accuracy: 0.8501\n",
      "Epoch 13/100\n",
      "23/23 [==============================] - 0s 5ms/step - loss: 0.3620 - accuracy: 0.8501\n",
      "Epoch 14/100\n",
      "23/23 [==============================] - 0s 5ms/step - loss: 0.3584 - accuracy: 0.8529\n",
      "Epoch 15/100\n",
      "23/23 [==============================] - 0s 5ms/step - loss: 0.3543 - accuracy: 0.8474\n",
      "Epoch 16/100\n",
      "23/23 [==============================] - 0s 5ms/step - loss: 0.3513 - accuracy: 0.8488\n",
      "Epoch 17/100\n",
      "23/23 [==============================] - 0s 5ms/step - loss: 0.3478 - accuracy: 0.8515\n",
      "Epoch 18/100\n",
      "23/23 [==============================] - 0s 9ms/step - loss: 0.3454 - accuracy: 0.8542\n",
      "Epoch 19/100\n",
      "23/23 [==============================] - 0s 4ms/step - loss: 0.3421 - accuracy: 0.8542\n",
      "Epoch 20/100\n",
      "23/23 [==============================] - 0s 4ms/step - loss: 0.3395 - accuracy: 0.8569\n",
      "Epoch 21/100\n",
      "23/23 [==============================] - 0s 3ms/step - loss: 0.3364 - accuracy: 0.8569\n",
      "Epoch 22/100\n",
      "23/23 [==============================] - 0s 5ms/step - loss: 0.3340 - accuracy: 0.8583\n",
      "Epoch 23/100\n",
      "23/23 [==============================] - 0s 4ms/step - loss: 0.3312 - accuracy: 0.8597\n",
      "Epoch 24/100\n",
      "23/23 [==============================] - 0s 5ms/step - loss: 0.3291 - accuracy: 0.8610\n",
      "Epoch 25/100\n",
      "23/23 [==============================] - 0s 4ms/step - loss: 0.3268 - accuracy: 0.8624\n",
      "Epoch 26/100\n",
      "23/23 [==============================] - 0s 5ms/step - loss: 0.3250 - accuracy: 0.8610\n",
      "Epoch 27/100\n",
      "23/23 [==============================] - 0s 6ms/step - loss: 0.3223 - accuracy: 0.8624\n",
      "Epoch 28/100\n",
      "23/23 [==============================] - 0s 4ms/step - loss: 0.3208 - accuracy: 0.8638\n",
      "Epoch 29/100\n",
      "23/23 [==============================] - 0s 9ms/step - loss: 0.3184 - accuracy: 0.8651\n",
      "Epoch 30/100\n",
      "23/23 [==============================] - 0s 8ms/step - loss: 0.3169 - accuracy: 0.8624\n",
      "Epoch 31/100\n",
      "23/23 [==============================] - 0s 4ms/step - loss: 0.3152 - accuracy: 0.8638\n",
      "Epoch 32/100\n",
      "23/23 [==============================] - 0s 4ms/step - loss: 0.3133 - accuracy: 0.8678\n",
      "Epoch 33/100\n",
      "23/23 [==============================] - 0s 4ms/step - loss: 0.3122 - accuracy: 0.8706\n",
      "Epoch 34/100\n",
      "23/23 [==============================] - 0s 4ms/step - loss: 0.3096 - accuracy: 0.8692\n",
      "Epoch 35/100\n",
      "23/23 [==============================] - 0s 3ms/step - loss: 0.3080 - accuracy: 0.8678\n",
      "Epoch 36/100\n",
      "23/23 [==============================] - 0s 5ms/step - loss: 0.3062 - accuracy: 0.8692\n",
      "Epoch 37/100\n",
      "23/23 [==============================] - 0s 5ms/step - loss: 0.3046 - accuracy: 0.8706\n",
      "Epoch 38/100\n",
      "23/23 [==============================] - 0s 6ms/step - loss: 0.3038 - accuracy: 0.8678\n",
      "Epoch 39/100\n",
      "23/23 [==============================] - 0s 7ms/step - loss: 0.3019 - accuracy: 0.8733\n",
      "Epoch 40/100\n",
      "23/23 [==============================] - 0s 4ms/step - loss: 0.3006 - accuracy: 0.8747\n",
      "Epoch 41/100\n",
      "23/23 [==============================] - 0s 4ms/step - loss: 0.2985 - accuracy: 0.8747\n",
      "Epoch 42/100\n",
      "23/23 [==============================] - 0s 4ms/step - loss: 0.2992 - accuracy: 0.8760\n",
      "Epoch 43/100\n",
      "23/23 [==============================] - 0s 5ms/step - loss: 0.2959 - accuracy: 0.8774\n",
      "Epoch 44/100\n",
      "23/23 [==============================] - 0s 3ms/step - loss: 0.2948 - accuracy: 0.8760\n",
      "Epoch 45/100\n",
      "23/23 [==============================] - 0s 5ms/step - loss: 0.2936 - accuracy: 0.8774\n",
      "Epoch 46/100\n",
      "23/23 [==============================] - 0s 5ms/step - loss: 0.2910 - accuracy: 0.8774\n",
      "Epoch 47/100\n",
      "23/23 [==============================] - 0s 4ms/step - loss: 0.2897 - accuracy: 0.8774\n",
      "Epoch 48/100\n",
      "23/23 [==============================] - 0s 4ms/step - loss: 0.2882 - accuracy: 0.8801\n",
      "Epoch 49/100\n",
      "23/23 [==============================] - 0s 8ms/step - loss: 0.2872 - accuracy: 0.8856\n",
      "Epoch 50/100\n",
      "23/23 [==============================] - 0s 7ms/step - loss: 0.2853 - accuracy: 0.8869\n",
      "Epoch 51/100\n",
      "23/23 [==============================] - 0s 4ms/step - loss: 0.2855 - accuracy: 0.8801\n",
      "Epoch 52/100\n",
      "23/23 [==============================] - 0s 4ms/step - loss: 0.2838 - accuracy: 0.8828\n",
      "Epoch 53/100\n",
      "23/23 [==============================] - 0s 6ms/step - loss: 0.2820 - accuracy: 0.8856\n",
      "Epoch 54/100\n",
      "23/23 [==============================] - 0s 5ms/step - loss: 0.2801 - accuracy: 0.8869\n",
      "Epoch 55/100\n",
      "23/23 [==============================] - 0s 4ms/step - loss: 0.2802 - accuracy: 0.8869\n",
      "Epoch 56/100\n",
      "23/23 [==============================] - 0s 3ms/step - loss: 0.2785 - accuracy: 0.8896\n",
      "Epoch 57/100\n",
      "23/23 [==============================] - 0s 5ms/step - loss: 0.2762 - accuracy: 0.8896\n",
      "Epoch 58/100\n",
      "23/23 [==============================] - 0s 5ms/step - loss: 0.2757 - accuracy: 0.8869\n",
      "Epoch 59/100\n",
      "23/23 [==============================] - 0s 6ms/step - loss: 0.2743 - accuracy: 0.8883\n",
      "Epoch 60/100\n",
      "23/23 [==============================] - 0s 6ms/step - loss: 0.2731 - accuracy: 0.8896\n",
      "Epoch 61/100\n",
      "23/23 [==============================] - 0s 3ms/step - loss: 0.2733 - accuracy: 0.8910\n",
      "Epoch 62/100\n",
      "23/23 [==============================] - 0s 6ms/step - loss: 0.2712 - accuracy: 0.8910\n",
      "Epoch 63/100\n",
      "23/23 [==============================] - 0s 4ms/step - loss: 0.2706 - accuracy: 0.8924\n",
      "Epoch 64/100\n",
      "23/23 [==============================] - 0s 7ms/step - loss: 0.2699 - accuracy: 0.8924\n",
      "Epoch 65/100\n",
      "23/23 [==============================] - 0s 5ms/step - loss: 0.2682 - accuracy: 0.8910\n",
      "Epoch 66/100\n",
      "23/23 [==============================] - 0s 4ms/step - loss: 0.2675 - accuracy: 0.8924\n",
      "Epoch 67/100\n",
      "23/23 [==============================] - 0s 6ms/step - loss: 0.2662 - accuracy: 0.8910\n",
      "Epoch 68/100\n",
      "23/23 [==============================] - 0s 5ms/step - loss: 0.2658 - accuracy: 0.8937\n",
      "Epoch 69/100\n",
      "23/23 [==============================] - 0s 6ms/step - loss: 0.2654 - accuracy: 0.8910\n",
      "Epoch 70/100\n",
      "23/23 [==============================] - 0s 5ms/step - loss: 0.2641 - accuracy: 0.8937\n",
      "Epoch 71/100\n",
      "23/23 [==============================] - 0s 3ms/step - loss: 0.2621 - accuracy: 0.8951\n",
      "Epoch 72/100\n",
      "23/23 [==============================] - 0s 4ms/step - loss: 0.2623 - accuracy: 0.8951\n",
      "Epoch 73/100\n",
      "23/23 [==============================] - 0s 4ms/step - loss: 0.2607 - accuracy: 0.8951\n",
      "Epoch 74/100\n",
      "23/23 [==============================] - 0s 4ms/step - loss: 0.2592 - accuracy: 0.8951\n",
      "Epoch 75/100\n",
      "23/23 [==============================] - 0s 5ms/step - loss: 0.2586 - accuracy: 0.8965\n",
      "Epoch 76/100\n",
      "23/23 [==============================] - 0s 5ms/step - loss: 0.2580 - accuracy: 0.8937\n",
      "Epoch 77/100\n",
      "23/23 [==============================] - 0s 7ms/step - loss: 0.2569 - accuracy: 0.8937\n",
      "Epoch 78/100\n",
      "23/23 [==============================] - 0s 3ms/step - loss: 0.2565 - accuracy: 0.8951\n",
      "Epoch 79/100\n",
      "23/23 [==============================] - 0s 5ms/step - loss: 0.2558 - accuracy: 0.8937\n",
      "Epoch 80/100\n",
      "23/23 [==============================] - 0s 8ms/step - loss: 0.2554 - accuracy: 0.8937\n",
      "Epoch 81/100\n",
      "23/23 [==============================] - 0s 6ms/step - loss: 0.2543 - accuracy: 0.8965\n",
      "Epoch 82/100\n",
      "23/23 [==============================] - 0s 4ms/step - loss: 0.2532 - accuracy: 0.8965\n",
      "Epoch 83/100\n"
     ]
    },
    {
     "name": "stdout",
     "output_type": "stream",
     "text": [
      "23/23 [==============================] - 0s 5ms/step - loss: 0.2531 - accuracy: 0.8951\n",
      "Epoch 84/100\n",
      "23/23 [==============================] - 0s 4ms/step - loss: 0.2521 - accuracy: 0.8978\n",
      "Epoch 85/100\n",
      "23/23 [==============================] - 0s 4ms/step - loss: 0.2516 - accuracy: 0.8965\n",
      "Epoch 86/100\n",
      "23/23 [==============================] - 0s 6ms/step - loss: 0.2513 - accuracy: 0.8978\n",
      "Epoch 87/100\n",
      "23/23 [==============================] - 0s 5ms/step - loss: 0.2499 - accuracy: 0.8965\n",
      "Epoch 88/100\n",
      "23/23 [==============================] - 0s 3ms/step - loss: 0.2493 - accuracy: 0.8965\n",
      "Epoch 89/100\n",
      "23/23 [==============================] - 0s 6ms/step - loss: 0.2484 - accuracy: 0.8978\n",
      "Epoch 90/100\n",
      "23/23 [==============================] - 0s 4ms/step - loss: 0.2482 - accuracy: 0.8992\n",
      "Epoch 91/100\n",
      "23/23 [==============================] - 0s 4ms/step - loss: 0.2490 - accuracy: 0.8978\n",
      "Epoch 92/100\n",
      "23/23 [==============================] - 0s 5ms/step - loss: 0.2472 - accuracy: 0.8992\n",
      "Epoch 93/100\n",
      "23/23 [==============================] - 0s 6ms/step - loss: 0.2464 - accuracy: 0.8992\n",
      "Epoch 94/100\n",
      "23/23 [==============================] - 0s 4ms/step - loss: 0.2455 - accuracy: 0.8992\n",
      "Epoch 95/100\n",
      "23/23 [==============================] - 0s 4ms/step - loss: 0.2449 - accuracy: 0.8992\n",
      "Epoch 96/100\n",
      "23/23 [==============================] - 0s 4ms/step - loss: 0.2446 - accuracy: 0.8978\n",
      "Epoch 97/100\n",
      "23/23 [==============================] - 0s 4ms/step - loss: 0.2439 - accuracy: 0.8992\n",
      "Epoch 98/100\n",
      "23/23 [==============================] - 0s 5ms/step - loss: 0.2435 - accuracy: 0.8978\n",
      "Epoch 99/100\n",
      "23/23 [==============================] - 0s 5ms/step - loss: 0.2426 - accuracy: 0.9019\n",
      "Epoch 100/100\n",
      "23/23 [==============================] - 0s 4ms/step - loss: 0.2413 - accuracy: 0.9033\n"
     ]
    },
    {
     "data": {
      "text/plain": [
       "<keras.callbacks.History at 0x225b15cf2e0>"
      ]
     },
     "execution_count": 59,
     "metadata": {},
     "output_type": "execute_result"
    }
   ],
   "source": [
    "model = Sequential()\n",
    "\n",
    "model.add(Dense(8, activation=\"relu\", input_dim = 11))\n",
    "model.add(Dense(16, activation=\"relu\"))\n",
    "model.add(Dense(8, activation=\"relu\"))\n",
    "model.add(Dense(1, activation=\"sigmoid\"))\n",
    "model.compile(Adam(learning_rate=0.001), loss = \"binary_crossentropy\", metrics=[\"accuracy\"])\n",
    "model.fit(X_train, y_train, epochs=100)"
   ]
  },
  {
   "cell_type": "code",
   "execution_count": 60,
   "id": "3c87b386",
   "metadata": {},
   "outputs": [
    {
     "name": "stdout",
     "output_type": "stream",
     "text": [
      "6/6 [==============================] - 0s 6ms/step - loss: 0.3558 - accuracy: 0.8859\n"
     ]
    }
   ],
   "source": [
    "acc,loss = model.evaluate(X_test,y_test)\n"
   ]
  },
  {
   "cell_type": "code",
   "execution_count": 63,
   "id": "1941e638",
   "metadata": {},
   "outputs": [],
   "source": [
    "modeljson = model.to_json()\n",
    "obj=open(\"D:/Datasets/HeartDisease.json\",\"w\")\n",
    "obj.write(modeljson)\n",
    "obj.close()\n",
    "model.save_weights(\"D:/Datasets/HeartDisease.h5\")"
   ]
  },
  {
   "cell_type": "code",
   "execution_count": null,
   "id": "4bc21434",
   "metadata": {},
   "outputs": [],
   "source": []
  },
  {
   "cell_type": "code",
   "execution_count": null,
   "id": "2687afea",
   "metadata": {},
   "outputs": [],
   "source": []
  },
  {
   "cell_type": "code",
   "execution_count": null,
   "id": "84c25a57",
   "metadata": {},
   "outputs": [],
   "source": []
  },
  {
   "cell_type": "markdown",
   "id": "0e7aa3fe",
   "metadata": {},
   "source": [
    "."
   ]
  },
  {
   "cell_type": "markdown",
   "id": "cf453292",
   "metadata": {},
   "source": [
    "# DIABETES"
   ]
  },
  {
   "cell_type": "code",
   "execution_count": 64,
   "id": "25414d06",
   "metadata": {},
   "outputs": [],
   "source": [
    "df=pd.read_csv('E:/Downloads/disease detection/diabetes.csv')"
   ]
  },
  {
   "cell_type": "code",
   "execution_count": 65,
   "id": "c2acc86f",
   "metadata": {},
   "outputs": [
    {
     "data": {
      "text/html": [
       "<div>\n",
       "<style scoped>\n",
       "    .dataframe tbody tr th:only-of-type {\n",
       "        vertical-align: middle;\n",
       "    }\n",
       "\n",
       "    .dataframe tbody tr th {\n",
       "        vertical-align: top;\n",
       "    }\n",
       "\n",
       "    .dataframe thead th {\n",
       "        text-align: right;\n",
       "    }\n",
       "</style>\n",
       "<table border=\"1\" class=\"dataframe\">\n",
       "  <thead>\n",
       "    <tr style=\"text-align: right;\">\n",
       "      <th></th>\n",
       "      <th>Pregnancies</th>\n",
       "      <th>Glucose</th>\n",
       "      <th>BloodPressure</th>\n",
       "      <th>SkinThickness</th>\n",
       "      <th>Insulin</th>\n",
       "      <th>BMI</th>\n",
       "      <th>DiabetesPedigreeFunction</th>\n",
       "      <th>Age</th>\n",
       "      <th>Outcome</th>\n",
       "    </tr>\n",
       "  </thead>\n",
       "  <tbody>\n",
       "    <tr>\n",
       "      <th>0</th>\n",
       "      <td>6</td>\n",
       "      <td>148</td>\n",
       "      <td>72</td>\n",
       "      <td>35</td>\n",
       "      <td>0</td>\n",
       "      <td>33.6</td>\n",
       "      <td>0.627</td>\n",
       "      <td>50</td>\n",
       "      <td>1</td>\n",
       "    </tr>\n",
       "    <tr>\n",
       "      <th>1</th>\n",
       "      <td>1</td>\n",
       "      <td>85</td>\n",
       "      <td>66</td>\n",
       "      <td>29</td>\n",
       "      <td>0</td>\n",
       "      <td>26.6</td>\n",
       "      <td>0.351</td>\n",
       "      <td>31</td>\n",
       "      <td>0</td>\n",
       "    </tr>\n",
       "    <tr>\n",
       "      <th>2</th>\n",
       "      <td>8</td>\n",
       "      <td>183</td>\n",
       "      <td>64</td>\n",
       "      <td>0</td>\n",
       "      <td>0</td>\n",
       "      <td>23.3</td>\n",
       "      <td>0.672</td>\n",
       "      <td>32</td>\n",
       "      <td>1</td>\n",
       "    </tr>\n",
       "    <tr>\n",
       "      <th>3</th>\n",
       "      <td>1</td>\n",
       "      <td>89</td>\n",
       "      <td>66</td>\n",
       "      <td>23</td>\n",
       "      <td>94</td>\n",
       "      <td>28.1</td>\n",
       "      <td>0.167</td>\n",
       "      <td>21</td>\n",
       "      <td>0</td>\n",
       "    </tr>\n",
       "    <tr>\n",
       "      <th>4</th>\n",
       "      <td>0</td>\n",
       "      <td>137</td>\n",
       "      <td>40</td>\n",
       "      <td>35</td>\n",
       "      <td>168</td>\n",
       "      <td>43.1</td>\n",
       "      <td>2.288</td>\n",
       "      <td>33</td>\n",
       "      <td>1</td>\n",
       "    </tr>\n",
       "  </tbody>\n",
       "</table>\n",
       "</div>"
      ],
      "text/plain": [
       "   Pregnancies  Glucose  BloodPressure  SkinThickness  Insulin   BMI  \\\n",
       "0            6      148             72             35        0  33.6   \n",
       "1            1       85             66             29        0  26.6   \n",
       "2            8      183             64              0        0  23.3   \n",
       "3            1       89             66             23       94  28.1   \n",
       "4            0      137             40             35      168  43.1   \n",
       "\n",
       "   DiabetesPedigreeFunction  Age  Outcome  \n",
       "0                     0.627   50        1  \n",
       "1                     0.351   31        0  \n",
       "2                     0.672   32        1  \n",
       "3                     0.167   21        0  \n",
       "4                     2.288   33        1  "
      ]
     },
     "execution_count": 65,
     "metadata": {},
     "output_type": "execute_result"
    }
   ],
   "source": [
    "df.head()"
   ]
  },
  {
   "cell_type": "code",
   "execution_count": 66,
   "id": "64424875",
   "metadata": {},
   "outputs": [],
   "source": [
    "X = df[[\"Pregnancies\", \"Glucose\", \"BloodPressure\", \"SkinThickness\", \"Insulin\", \"BMI\", \"DiabetesPedigreeFunction\", \"Age\"]].values\n",
    "Y = df[\"Outcome\"].values"
   ]
  },
  {
   "cell_type": "code",
   "execution_count": 67,
   "id": "84bb7367",
   "metadata": {},
   "outputs": [],
   "source": [
    "X=preprocessing.StandardScaler().fit(X).transform(X.astype(float))"
   ]
  },
  {
   "cell_type": "code",
   "execution_count": 68,
   "id": "d6a4ed8b",
   "metadata": {},
   "outputs": [
    {
     "name": "stdout",
     "output_type": "stream",
     "text": [
      "Train set: (614, 8) (614,)\n",
      "Test set: (154, 8) (154,)\n"
     ]
    }
   ],
   "source": [
    "from sklearn.model_selection import train_test_split\n",
    "X_train, X_test, y_train, y_test = train_test_split( X, Y, test_size=0.2, random_state=4)\n",
    "print ('Train set:', X_train.shape,  y_train.shape)\n",
    "print ('Test set:', X_test.shape,  y_test.shape)"
   ]
  },
  {
   "cell_type": "markdown",
   "id": "244e0433",
   "metadata": {},
   "source": [
    "KNN"
   ]
  },
  {
   "cell_type": "code",
   "execution_count": 39,
   "id": "9ae0b441",
   "metadata": {},
   "outputs": [],
   "source": [
    "k=2\n",
    "neigh1=KNeighborsClassifier(n_neighbors=k).fit(X_train,y_train)\n",
    "yhat=neigh1.predict(X_test)"
   ]
  },
  {
   "cell_type": "code",
   "execution_count": 40,
   "id": "edb3d7c9",
   "metadata": {},
   "outputs": [
    {
     "name": "stdout",
     "output_type": "stream",
     "text": [
      "Train set Accuracy:  0.8436482084690554\n",
      "Test set Accuracy:  0.7142857142857143\n"
     ]
    }
   ],
   "source": [
    "from sklearn import metrics\n",
    "print(\"Train set Accuracy: \", metrics.accuracy_score(y_train, neigh1.predict(X_train)))\n",
    "print(\"Test set Accuracy: \", metrics.accuracy_score(y_test, yhat))"
   ]
  },
  {
   "cell_type": "code",
   "execution_count": 41,
   "id": "691f3e8a",
   "metadata": {},
   "outputs": [],
   "source": [
    "import pickle\n",
    "\n",
    "knnPickle1 = open('Diabetes', 'wb') \n",
    "pickle.dump(neigh, knnPickle1)\n",
    "knnPickle1.close()\n"
   ]
  },
  {
   "cell_type": "code",
   "execution_count": 44,
   "id": "ba67ee6c",
   "metadata": {},
   "outputs": [
    {
     "name": "stdout",
     "output_type": "stream",
     "text": [
      "Test set Accuracy:  0.7142857142857143\n"
     ]
    }
   ],
   "source": [
    "loaded_model1 = pickle.load(open('Diabetes', 'rb'))\n",
    "result1 = loaded_model1.predict(X_test) \n",
    "print(\"Test set Accuracy: \", metrics.accuracy_score(y_test, result1))"
   ]
  },
  {
   "cell_type": "markdown",
   "id": "2d74b190",
   "metadata": {},
   "source": [
    "ANN"
   ]
  },
  {
   "cell_type": "code",
   "execution_count": 83,
   "id": "4c916dfb",
   "metadata": {},
   "outputs": [
    {
     "name": "stdout",
     "output_type": "stream",
     "text": [
      "Epoch 1/100\n",
      "20/20 [==============================] - 1s 4ms/step - loss: 0.6134 - accuracy: 0.6401\n",
      "Epoch 2/100\n",
      "20/20 [==============================] - 0s 4ms/step - loss: 0.5370 - accuracy: 0.6889\n",
      "Epoch 3/100\n",
      "20/20 [==============================] - 0s 3ms/step - loss: 0.4963 - accuracy: 0.7508\n",
      "Epoch 4/100\n",
      "20/20 [==============================] - 0s 6ms/step - loss: 0.4823 - accuracy: 0.7541\n",
      "Epoch 5/100\n",
      "20/20 [==============================] - 0s 6ms/step - loss: 0.4749 - accuracy: 0.7638\n",
      "Epoch 6/100\n",
      "20/20 [==============================] - 0s 3ms/step - loss: 0.4682 - accuracy: 0.7704\n",
      "Epoch 7/100\n",
      "20/20 [==============================] - 0s 5ms/step - loss: 0.4675 - accuracy: 0.7606\n",
      "Epoch 8/100\n",
      "20/20 [==============================] - 0s 4ms/step - loss: 0.4620 - accuracy: 0.7720\n",
      "Epoch 9/100\n",
      "20/20 [==============================] - 0s 7ms/step - loss: 0.4609 - accuracy: 0.7736\n",
      "Epoch 10/100\n",
      "20/20 [==============================] - 0s 6ms/step - loss: 0.4537 - accuracy: 0.7752\n",
      "Epoch 11/100\n",
      "20/20 [==============================] - 0s 5ms/step - loss: 0.4591 - accuracy: 0.7687\n",
      "Epoch 12/100\n",
      "20/20 [==============================] - 0s 3ms/step - loss: 0.4525 - accuracy: 0.7752\n",
      "Epoch 13/100\n",
      "20/20 [==============================] - 0s 5ms/step - loss: 0.4531 - accuracy: 0.7769\n",
      "Epoch 14/100\n",
      "20/20 [==============================] - 0s 2ms/step - loss: 0.4540 - accuracy: 0.7769\n",
      "Epoch 15/100\n",
      "20/20 [==============================] - 0s 4ms/step - loss: 0.4492 - accuracy: 0.7818\n",
      "Epoch 16/100\n",
      "20/20 [==============================] - 0s 5ms/step - loss: 0.4470 - accuracy: 0.7834\n",
      "Epoch 17/100\n",
      "20/20 [==============================] - 0s 3ms/step - loss: 0.4464 - accuracy: 0.7818\n",
      "Epoch 18/100\n",
      "20/20 [==============================] - 0s 6ms/step - loss: 0.4486 - accuracy: 0.7818\n",
      "Epoch 19/100\n",
      "20/20 [==============================] - 0s 6ms/step - loss: 0.4434 - accuracy: 0.7834\n",
      "Epoch 20/100\n",
      "20/20 [==============================] - 0s 7ms/step - loss: 0.4428 - accuracy: 0.7850\n",
      "Epoch 21/100\n",
      "20/20 [==============================] - 0s 8ms/step - loss: 0.4415 - accuracy: 0.7866\n",
      "Epoch 22/100\n",
      "20/20 [==============================] - 0s 4ms/step - loss: 0.4418 - accuracy: 0.7866\n",
      "Epoch 23/100\n",
      "20/20 [==============================] - 0s 3ms/step - loss: 0.4390 - accuracy: 0.7834\n",
      "Epoch 24/100\n",
      "20/20 [==============================] - 0s 3ms/step - loss: 0.4379 - accuracy: 0.7883\n",
      "Epoch 25/100\n",
      "20/20 [==============================] - 0s 3ms/step - loss: 0.4361 - accuracy: 0.7899\n",
      "Epoch 26/100\n",
      "20/20 [==============================] - 0s 5ms/step - loss: 0.4372 - accuracy: 0.7899\n",
      "Epoch 27/100\n",
      "20/20 [==============================] - 0s 4ms/step - loss: 0.4378 - accuracy: 0.7899\n",
      "Epoch 28/100\n",
      "20/20 [==============================] - 0s 4ms/step - loss: 0.4414 - accuracy: 0.7883\n",
      "Epoch 29/100\n",
      "20/20 [==============================] - 0s 3ms/step - loss: 0.4384 - accuracy: 0.7883\n",
      "Epoch 30/100\n",
      "20/20 [==============================] - 0s 7ms/step - loss: 0.4492 - accuracy: 0.7850\n",
      "Epoch 31/100\n",
      "20/20 [==============================] - 0s 5ms/step - loss: 0.4310 - accuracy: 0.7948\n",
      "Epoch 32/100\n",
      "20/20 [==============================] - 0s 8ms/step - loss: 0.4299 - accuracy: 0.7980\n",
      "Epoch 33/100\n",
      "20/20 [==============================] - 0s 7ms/step - loss: 0.4313 - accuracy: 0.8029\n",
      "Epoch 34/100\n",
      "20/20 [==============================] - 0s 4ms/step - loss: 0.4311 - accuracy: 0.8029\n",
      "Epoch 35/100\n",
      "20/20 [==============================] - 0s 3ms/step - loss: 0.4239 - accuracy: 0.7964\n",
      "Epoch 36/100\n",
      "20/20 [==============================] - 0s 4ms/step - loss: 0.4253 - accuracy: 0.7980\n",
      "Epoch 37/100\n",
      "20/20 [==============================] - 0s 4ms/step - loss: 0.4222 - accuracy: 0.8013\n",
      "Epoch 38/100\n",
      "20/20 [==============================] - 0s 5ms/step - loss: 0.4201 - accuracy: 0.7964\n",
      "Epoch 39/100\n",
      "20/20 [==============================] - 0s 5ms/step - loss: 0.4197 - accuracy: 0.8094\n",
      "Epoch 40/100\n",
      "20/20 [==============================] - 0s 5ms/step - loss: 0.4180 - accuracy: 0.8094\n",
      "Epoch 41/100\n",
      "20/20 [==============================] - 0s 6ms/step - loss: 0.4197 - accuracy: 0.8046\n",
      "Epoch 42/100\n",
      "20/20 [==============================] - 0s 3ms/step - loss: 0.4221 - accuracy: 0.8046\n",
      "Epoch 43/100\n",
      "20/20 [==============================] - 0s 8ms/step - loss: 0.4177 - accuracy: 0.8013\n",
      "Epoch 44/100\n",
      "20/20 [==============================] - 0s 7ms/step - loss: 0.4182 - accuracy: 0.8094\n",
      "Epoch 45/100\n",
      "20/20 [==============================] - 0s 6ms/step - loss: 0.4137 - accuracy: 0.8062\n",
      "Epoch 46/100\n",
      "20/20 [==============================] - 0s 8ms/step - loss: 0.4161 - accuracy: 0.8046\n",
      "Epoch 47/100\n",
      "20/20 [==============================] - 0s 6ms/step - loss: 0.4124 - accuracy: 0.8094\n",
      "Epoch 48/100\n",
      "20/20 [==============================] - 0s 4ms/step - loss: 0.4167 - accuracy: 0.8094\n",
      "Epoch 49/100\n",
      "20/20 [==============================] - 0s 4ms/step - loss: 0.4201 - accuracy: 0.8046\n",
      "Epoch 50/100\n",
      "20/20 [==============================] - 0s 5ms/step - loss: 0.4160 - accuracy: 0.8062\n",
      "Epoch 51/100\n",
      "20/20 [==============================] - 0s 4ms/step - loss: 0.4133 - accuracy: 0.8127\n",
      "Epoch 52/100\n",
      "20/20 [==============================] - 0s 5ms/step - loss: 0.4077 - accuracy: 0.8208\n",
      "Epoch 53/100\n",
      "20/20 [==============================] - 0s 5ms/step - loss: 0.4141 - accuracy: 0.8127\n",
      "Epoch 54/100\n",
      "20/20 [==============================] - 0s 4ms/step - loss: 0.4051 - accuracy: 0.8192\n",
      "Epoch 55/100\n",
      "20/20 [==============================] - 0s 6ms/step - loss: 0.4056 - accuracy: 0.8094\n",
      "Epoch 56/100\n",
      "20/20 [==============================] - 0s 7ms/step - loss: 0.4046 - accuracy: 0.8176\n",
      "Epoch 57/100\n",
      "20/20 [==============================] - 0s 4ms/step - loss: 0.4089 - accuracy: 0.8143\n",
      "Epoch 58/100\n",
      "20/20 [==============================] - 0s 6ms/step - loss: 0.4095 - accuracy: 0.8094\n",
      "Epoch 59/100\n",
      "20/20 [==============================] - 0s 4ms/step - loss: 0.4112 - accuracy: 0.8143\n",
      "Epoch 60/100\n",
      "20/20 [==============================] - 0s 6ms/step - loss: 0.4051 - accuracy: 0.8094\n",
      "Epoch 61/100\n",
      "20/20 [==============================] - 0s 4ms/step - loss: 0.4188 - accuracy: 0.8078\n",
      "Epoch 62/100\n",
      "20/20 [==============================] - 0s 9ms/step - loss: 0.4045 - accuracy: 0.8078\n",
      "Epoch 63/100\n",
      "20/20 [==============================] - 0s 8ms/step - loss: 0.4064 - accuracy: 0.8160\n",
      "Epoch 64/100\n",
      "20/20 [==============================] - 0s 3ms/step - loss: 0.4012 - accuracy: 0.8143\n",
      "Epoch 65/100\n",
      "20/20 [==============================] - 0s 6ms/step - loss: 0.4015 - accuracy: 0.8176\n",
      "Epoch 66/100\n",
      "20/20 [==============================] - 0s 4ms/step - loss: 0.4073 - accuracy: 0.8160\n",
      "Epoch 67/100\n",
      "20/20 [==============================] - 0s 2ms/step - loss: 0.4107 - accuracy: 0.8029\n",
      "Epoch 68/100\n",
      "20/20 [==============================] - 0s 3ms/step - loss: 0.4048 - accuracy: 0.8160\n",
      "Epoch 69/100\n",
      "20/20 [==============================] - 0s 5ms/step - loss: 0.4049 - accuracy: 0.8241\n",
      "Epoch 70/100\n",
      "20/20 [==============================] - 0s 5ms/step - loss: 0.4038 - accuracy: 0.8176\n",
      "Epoch 71/100\n",
      "20/20 [==============================] - 0s 4ms/step - loss: 0.4159 - accuracy: 0.8208\n",
      "Epoch 72/100\n",
      "20/20 [==============================] - 0s 2ms/step - loss: 0.4196 - accuracy: 0.8094\n",
      "Epoch 73/100\n",
      "20/20 [==============================] - 0s 4ms/step - loss: 0.4164 - accuracy: 0.8111\n",
      "Epoch 74/100\n",
      "20/20 [==============================] - 0s 6ms/step - loss: 0.4078 - accuracy: 0.8062\n",
      "Epoch 75/100\n",
      "20/20 [==============================] - 0s 5ms/step - loss: 0.3974 - accuracy: 0.8274\n",
      "Epoch 76/100\n",
      "20/20 [==============================] - 0s 5ms/step - loss: 0.3977 - accuracy: 0.8241\n",
      "Epoch 77/100\n",
      "20/20 [==============================] - 0s 5ms/step - loss: 0.3973 - accuracy: 0.8274\n",
      "Epoch 78/100\n",
      "20/20 [==============================] - ETA: 0s - loss: 0.3848 - accuracy: 0.84 - 0s 8ms/step - loss: 0.4195 - accuracy: 0.8094\n",
      "Epoch 79/100\n",
      "20/20 [==============================] - 0s 2ms/step - loss: 0.4116 - accuracy: 0.8176\n",
      "Epoch 80/100\n",
      "20/20 [==============================] - 0s 4ms/step - loss: 0.3958 - accuracy: 0.8111\n",
      "Epoch 81/100\n",
      "20/20 [==============================] - 0s 4ms/step - loss: 0.3941 - accuracy: 0.8306\n",
      "Epoch 82/100\n",
      "20/20 [==============================] - 0s 5ms/step - loss: 0.3961 - accuracy: 0.8208\n",
      "Epoch 83/100\n",
      "20/20 [==============================] - 0s 4ms/step - loss: 0.3898 - accuracy: 0.8176\n",
      "Epoch 84/100\n",
      "20/20 [==============================] - 0s 4ms/step - loss: 0.3929 - accuracy: 0.8176\n",
      "Epoch 85/100\n",
      "20/20 [==============================] - 0s 6ms/step - loss: 0.4050 - accuracy: 0.8143\n",
      "Epoch 86/100\n",
      "20/20 [==============================] - 0s 5ms/step - loss: 0.3967 - accuracy: 0.8160\n",
      "Epoch 87/100\n",
      "20/20 [==============================] - 0s 7ms/step - loss: 0.3934 - accuracy: 0.8241\n",
      "Epoch 88/100\n",
      "20/20 [==============================] - 0s 4ms/step - loss: 0.3923 - accuracy: 0.8225\n",
      "Epoch 89/100\n",
      "20/20 [==============================] - 0s 6ms/step - loss: 0.3921 - accuracy: 0.8306\n",
      "Epoch 90/100\n",
      "20/20 [==============================] - 0s 6ms/step - loss: 0.3881 - accuracy: 0.8290\n",
      "Epoch 91/100\n",
      "20/20 [==============================] - 0s 3ms/step - loss: 0.3943 - accuracy: 0.8225\n",
      "Epoch 92/100\n",
      "20/20 [==============================] - 0s 7ms/step - loss: 0.3927 - accuracy: 0.8241\n",
      "Epoch 93/100\n",
      "20/20 [==============================] - 0s 5ms/step - loss: 0.3938 - accuracy: 0.8208\n",
      "Epoch 94/100\n",
      "20/20 [==============================] - 0s 3ms/step - loss: 0.3932 - accuracy: 0.8208\n",
      "Epoch 95/100\n",
      "20/20 [==============================] - 0s 3ms/step - loss: 0.3946 - accuracy: 0.8290\n",
      "Epoch 96/100\n",
      "20/20 [==============================] - 0s 4ms/step - loss: 0.3845 - accuracy: 0.8306\n",
      "Epoch 97/100\n",
      "20/20 [==============================] - 0s 8ms/step - loss: 0.3879 - accuracy: 0.8257\n",
      "Epoch 98/100\n",
      "20/20 [==============================] - 0s 8ms/step - loss: 0.3938 - accuracy: 0.8143\n",
      "Epoch 99/100\n",
      "20/20 [==============================] - 0s 8ms/step - loss: 0.3895 - accuracy: 0.8257\n",
      "Epoch 100/100\n",
      "20/20 [==============================] - 0s 7ms/step - loss: 0.3892 - accuracy: 0.8257\n"
     ]
    },
    {
     "data": {
      "text/plain": [
       "<keras.callbacks.History at 0x225ba49cf70>"
      ]
     },
     "execution_count": 83,
     "metadata": {},
     "output_type": "execute_result"
    }
   ],
   "source": [
    "model = Sequential()\n",
    "\n",
    "model.add(Dense(4, activation=\"relu\", input_dim = 8))\n",
    "model.add(Dense(8, activation=\"relu\"))\n",
    "model.add(Dense(4, activation=\"relu\"))\n",
    "model.add(Dense(1, activation=\"sigmoid\"))\n",
    "model.compile(Adam(learning_rate=0.01), loss = \"binary_crossentropy\", metrics=[\"accuracy\"])\n",
    "model.fit(X_train, y_train, epochs=100)"
   ]
  },
  {
   "cell_type": "code",
   "execution_count": 84,
   "id": "2f008825",
   "metadata": {},
   "outputs": [
    {
     "name": "stdout",
     "output_type": "stream",
     "text": [
      "5/5 [==============================] - 0s 7ms/step - loss: 0.6493 - accuracy: 0.7597\n"
     ]
    }
   ],
   "source": [
    "acc,loss = model.evaluate(X_test,y_test)"
   ]
  },
  {
   "cell_type": "code",
   "execution_count": 85,
   "id": "4a8b841d",
   "metadata": {},
   "outputs": [],
   "source": [
    "modeljson = model.to_json()\n",
    "obj=open(\"D:/Datasets/Diabetes.json\",\"w\")\n",
    "obj.write(modeljson)\n",
    "obj.close()\n",
    "model.save_weights(\"D:/Datasets/Diabetes.h5\")"
   ]
  },
  {
   "cell_type": "code",
   "execution_count": null,
   "id": "221ce4ee",
   "metadata": {},
   "outputs": [],
   "source": []
  },
  {
   "cell_type": "code",
   "execution_count": null,
   "id": "aaf5411d",
   "metadata": {},
   "outputs": [],
   "source": []
  },
  {
   "cell_type": "markdown",
   "id": "9737ba41",
   "metadata": {},
   "source": [
    "."
   ]
  },
  {
   "cell_type": "markdown",
   "id": "08008527",
   "metadata": {},
   "source": [
    "# STROKE"
   ]
  },
  {
   "cell_type": "code",
   "execution_count": 129,
   "id": "8fcc6fe8",
   "metadata": {},
   "outputs": [],
   "source": [
    "df=pd.read_csv('E:/Downloads/disease detection/stroke.csv')"
   ]
  },
  {
   "cell_type": "code",
   "execution_count": 130,
   "id": "9dfee589",
   "metadata": {},
   "outputs": [
    {
     "data": {
      "text/html": [
       "<div>\n",
       "<style scoped>\n",
       "    .dataframe tbody tr th:only-of-type {\n",
       "        vertical-align: middle;\n",
       "    }\n",
       "\n",
       "    .dataframe tbody tr th {\n",
       "        vertical-align: top;\n",
       "    }\n",
       "\n",
       "    .dataframe thead th {\n",
       "        text-align: right;\n",
       "    }\n",
       "</style>\n",
       "<table border=\"1\" class=\"dataframe\">\n",
       "  <thead>\n",
       "    <tr style=\"text-align: right;\">\n",
       "      <th></th>\n",
       "      <th>id</th>\n",
       "      <th>gender</th>\n",
       "      <th>age</th>\n",
       "      <th>hypertension</th>\n",
       "      <th>heart_disease</th>\n",
       "      <th>ever_married</th>\n",
       "      <th>work_type</th>\n",
       "      <th>Residence_type</th>\n",
       "      <th>avg_glucose_level</th>\n",
       "      <th>bmi</th>\n",
       "      <th>smoking_status</th>\n",
       "      <th>stroke</th>\n",
       "    </tr>\n",
       "  </thead>\n",
       "  <tbody>\n",
       "    <tr>\n",
       "      <th>0</th>\n",
       "      <td>9046</td>\n",
       "      <td>Male</td>\n",
       "      <td>67.0</td>\n",
       "      <td>0</td>\n",
       "      <td>1</td>\n",
       "      <td>Yes</td>\n",
       "      <td>Private</td>\n",
       "      <td>Urban</td>\n",
       "      <td>228.69</td>\n",
       "      <td>36.6</td>\n",
       "      <td>formerly smoked</td>\n",
       "      <td>1</td>\n",
       "    </tr>\n",
       "    <tr>\n",
       "      <th>1</th>\n",
       "      <td>51676</td>\n",
       "      <td>Female</td>\n",
       "      <td>61.0</td>\n",
       "      <td>0</td>\n",
       "      <td>0</td>\n",
       "      <td>Yes</td>\n",
       "      <td>Self-employed</td>\n",
       "      <td>Rural</td>\n",
       "      <td>202.21</td>\n",
       "      <td>NaN</td>\n",
       "      <td>never smoked</td>\n",
       "      <td>1</td>\n",
       "    </tr>\n",
       "    <tr>\n",
       "      <th>2</th>\n",
       "      <td>31112</td>\n",
       "      <td>Male</td>\n",
       "      <td>80.0</td>\n",
       "      <td>0</td>\n",
       "      <td>1</td>\n",
       "      <td>Yes</td>\n",
       "      <td>Private</td>\n",
       "      <td>Rural</td>\n",
       "      <td>105.92</td>\n",
       "      <td>32.5</td>\n",
       "      <td>never smoked</td>\n",
       "      <td>1</td>\n",
       "    </tr>\n",
       "    <tr>\n",
       "      <th>3</th>\n",
       "      <td>60182</td>\n",
       "      <td>Female</td>\n",
       "      <td>49.0</td>\n",
       "      <td>0</td>\n",
       "      <td>0</td>\n",
       "      <td>Yes</td>\n",
       "      <td>Private</td>\n",
       "      <td>Urban</td>\n",
       "      <td>171.23</td>\n",
       "      <td>34.4</td>\n",
       "      <td>smokes</td>\n",
       "      <td>1</td>\n",
       "    </tr>\n",
       "    <tr>\n",
       "      <th>4</th>\n",
       "      <td>1665</td>\n",
       "      <td>Female</td>\n",
       "      <td>79.0</td>\n",
       "      <td>1</td>\n",
       "      <td>0</td>\n",
       "      <td>Yes</td>\n",
       "      <td>Self-employed</td>\n",
       "      <td>Rural</td>\n",
       "      <td>174.12</td>\n",
       "      <td>24.0</td>\n",
       "      <td>never smoked</td>\n",
       "      <td>1</td>\n",
       "    </tr>\n",
       "  </tbody>\n",
       "</table>\n",
       "</div>"
      ],
      "text/plain": [
       "      id  gender   age  hypertension  heart_disease ever_married  \\\n",
       "0   9046    Male  67.0             0              1          Yes   \n",
       "1  51676  Female  61.0             0              0          Yes   \n",
       "2  31112    Male  80.0             0              1          Yes   \n",
       "3  60182  Female  49.0             0              0          Yes   \n",
       "4   1665  Female  79.0             1              0          Yes   \n",
       "\n",
       "       work_type Residence_type  avg_glucose_level   bmi   smoking_status  \\\n",
       "0        Private          Urban             228.69  36.6  formerly smoked   \n",
       "1  Self-employed          Rural             202.21   NaN     never smoked   \n",
       "2        Private          Rural             105.92  32.5     never smoked   \n",
       "3        Private          Urban             171.23  34.4           smokes   \n",
       "4  Self-employed          Rural             174.12  24.0     never smoked   \n",
       "\n",
       "   stroke  \n",
       "0       1  \n",
       "1       1  \n",
       "2       1  \n",
       "3       1  \n",
       "4       1  "
      ]
     },
     "execution_count": 130,
     "metadata": {},
     "output_type": "execute_result"
    }
   ],
   "source": [
    "df.head()"
   ]
  },
  {
   "cell_type": "code",
   "execution_count": 131,
   "id": "34e34386",
   "metadata": {},
   "outputs": [
    {
     "data": {
      "text/plain": [
       "id                   5110\n",
       "gender                  3\n",
       "age                   104\n",
       "hypertension            2\n",
       "heart_disease           2\n",
       "ever_married            2\n",
       "work_type               5\n",
       "Residence_type          2\n",
       "avg_glucose_level    3979\n",
       "bmi                   418\n",
       "smoking_status          4\n",
       "stroke                  2\n",
       "dtype: int64"
      ]
     },
     "execution_count": 131,
     "metadata": {},
     "output_type": "execute_result"
    }
   ],
   "source": [
    "df.nunique(axis=0)"
   ]
  },
  {
   "cell_type": "code",
   "execution_count": 75,
   "id": "5b525e54",
   "metadata": {},
   "outputs": [
    {
     "data": {
      "text/plain": [
       "array(['formerly smoked', 'never smoked', 'smokes', 'Unknown'],\n",
       "      dtype=object)"
      ]
     },
     "execution_count": 75,
     "metadata": {},
     "output_type": "execute_result"
    }
   ],
   "source": [
    "df.smoking_status.unique()"
   ]
  },
  {
   "cell_type": "code",
   "execution_count": null,
   "id": "b1c2c99f",
   "metadata": {},
   "outputs": [],
   "source": [
    "gender - Male   0\n",
    "         Female 1\n",
    "         Other  2\n",
    "ever_married - No 0\n",
    "               Yes 1\n",
    "work_type - Private       0\n",
    "            Self_employed 1\n",
    "            Govt_job      2\n",
    "            children      3\n",
    "            Never_worked  4\n",
    "Residence_type - Rural 0\n",
    "                 Urban 1\n",
    "smoking_status - never smoked    0\n",
    "                 formerly smoked 1\n",
    "                 smokes          2 \n",
    "                 Unknown         3"
   ]
  },
  {
   "cell_type": "code",
   "execution_count": 132,
   "id": "4a1ccbd5",
   "metadata": {},
   "outputs": [],
   "source": [
    "for i,j in enumerate(df[\"ever_married\"]):\n",
    "    if j==\"No\":\n",
    "        df[\"ever_married\"][i] = 0\n",
    "    else:\n",
    "        df[\"ever_married\"][i] = 1\n",
    "        \n",
    "for i,j in enumerate(df[\"smoking_status\"]):\n",
    "    if j==\"never smoked\":\n",
    "        df[\"smoking_status\"][i] = 0\n",
    "    elif j==\"formerly smoked\":\n",
    "        df[\"smoking_status\"][i] = 1\n",
    "    elif j==\"smokes\":\n",
    "        df[\"smoking_status\"][i] = 2\n",
    "    else:\n",
    "        df[\"smoking_status\"][i] = 3\n",
    "        \n",
    "for i,j in enumerate(df[\"gender\"]):\n",
    "    if j==\"Male\":\n",
    "        df[\"gender\"][i] = 0\n",
    "    elif j==\"Female\":\n",
    "        df[\"gender\"][i] = 1\n",
    "    else:\n",
    "        df[\"gender\"][i] = 2\n",
    "\n",
    "for i,j in enumerate(df[\"work_type\"]):\n",
    "    if j==\"Private\":\n",
    "        df[\"work_type\"][i] = 0\n",
    "    elif j==\"Self_employed\":\n",
    "        df[\"work_type\"][i] = 1\n",
    "    elif j==\"Govt_job\":\n",
    "        df[\"work_type\"][i] = 2\n",
    "    elif j==\"children\":\n",
    "        df[\"work_type\"][i] = 3\n",
    "    else:\n",
    "        df[\"work_type\"][i] = 4\n",
    "        \n",
    "for i,j in enumerate(df[\"Residence_type\"]):\n",
    "    if j==\"Rural\":\n",
    "        df[\"Residence_type\"][i] = 0\n",
    "    else:\n",
    "        df[\"Residence_type\"][i] = 1"
   ]
  },
  {
   "cell_type": "code",
   "execution_count": 133,
   "id": "ec37b435",
   "metadata": {},
   "outputs": [
    {
     "data": {
      "text/plain": [
       "201"
      ]
     },
     "execution_count": 133,
     "metadata": {},
     "output_type": "execute_result"
    }
   ],
   "source": [
    "df[\"bmi\"].isnull().sum()"
   ]
  },
  {
   "cell_type": "code",
   "execution_count": 134,
   "id": "ec193c04",
   "metadata": {},
   "outputs": [],
   "source": [
    "df=df.dropna()"
   ]
  },
  {
   "cell_type": "code",
   "execution_count": 135,
   "id": "a9bcc747",
   "metadata": {},
   "outputs": [],
   "source": [
    "X = df[[\"gender\", \"age\", \"hypertension\", \"heart_disease\", 'ever_married', \"work_type\", \"Residence_type\", \"avg_glucose_level\", \"bmi\", \"smoking_status\"]].values\n",
    "Y = df[\"stroke\"]"
   ]
  },
  {
   "cell_type": "code",
   "execution_count": 136,
   "id": "d1a3e8a4",
   "metadata": {},
   "outputs": [],
   "source": [
    "X=preprocessing.StandardScaler().fit(X).transform(X.astype(float))"
   ]
  },
  {
   "cell_type": "code",
   "execution_count": 137,
   "id": "07268e59",
   "metadata": {},
   "outputs": [
    {
     "name": "stdout",
     "output_type": "stream",
     "text": [
      "Train set: (3927, 10) (3927,)\n",
      "Test set: (982, 10) (982,)\n"
     ]
    }
   ],
   "source": [
    "from sklearn.model_selection import train_test_split\n",
    "X_train, X_test, y_train, y_test = train_test_split( X, Y, test_size=0.2, random_state=4)\n",
    "print ('Train set:', X_train.shape,  y_train.shape)\n",
    "print ('Test set:', X_test.shape,  y_test.shape)"
   ]
  },
  {
   "cell_type": "markdown",
   "id": "7dd70719",
   "metadata": {},
   "source": [
    "KNN"
   ]
  },
  {
   "cell_type": "code",
   "execution_count": 138,
   "id": "147fe25a",
   "metadata": {},
   "outputs": [
    {
     "name": "stderr",
     "output_type": "stream",
     "text": [
      "E:\\Anaconda\\lib\\site-packages\\sklearn\\neighbors\\_classification.py:228: FutureWarning: Unlike other reduction functions (e.g. `skew`, `kurtosis`), the default behavior of `mode` typically preserves the axis it acts along. In SciPy 1.11.0, this behavior will change: the default value of `keepdims` will become False, the `axis` over which the statistic is taken will be eliminated, and the value None will no longer be accepted. Set `keepdims` to True or False to avoid this warning.\n",
      "  mode, _ = stats.mode(_y[neigh_ind, k], axis=1)\n"
     ]
    }
   ],
   "source": [
    "k=2\n",
    "neigh1=KNeighborsClassifier(n_neighbors=k).fit(X_train,y_train)\n",
    "yhat=neigh1.predict(X_test)"
   ]
  },
  {
   "cell_type": "code",
   "execution_count": 139,
   "id": "a07a4b7d",
   "metadata": {},
   "outputs": [
    {
     "name": "stdout",
     "output_type": "stream",
     "text": [
      "Train set Accuracy:  0.9597657244716068\n",
      "Test set Accuracy:  0.960285132382892\n"
     ]
    },
    {
     "name": "stderr",
     "output_type": "stream",
     "text": [
      "E:\\Anaconda\\lib\\site-packages\\sklearn\\neighbors\\_classification.py:228: FutureWarning: Unlike other reduction functions (e.g. `skew`, `kurtosis`), the default behavior of `mode` typically preserves the axis it acts along. In SciPy 1.11.0, this behavior will change: the default value of `keepdims` will become False, the `axis` over which the statistic is taken will be eliminated, and the value None will no longer be accepted. Set `keepdims` to True or False to avoid this warning.\n",
      "  mode, _ = stats.mode(_y[neigh_ind, k], axis=1)\n"
     ]
    }
   ],
   "source": [
    "from sklearn import metrics\n",
    "print(\"Train set Accuracy: \", metrics.accuracy_score(y_train, neigh1.predict(X_train)))\n",
    "print(\"Test set Accuracy: \", metrics.accuracy_score(y_test, yhat))"
   ]
  },
  {
   "cell_type": "code",
   "execution_count": 125,
   "id": "76ed3637",
   "metadata": {},
   "outputs": [],
   "source": [
    "import pickle\n",
    "\n",
    "knnPickle1 = open('Stroke', 'wb') \n",
    "pickle.dump(knn, knnPickle1)\n",
    "knnPickle1.close()\n"
   ]
  },
  {
   "cell_type": "code",
   "execution_count": 127,
   "id": "e10e33c7",
   "metadata": {},
   "outputs": [],
   "source": [
    "loaded_model1 = pickle.load(open('Stroke', 'rb'))\n"
   ]
  },
  {
   "cell_type": "code",
   "execution_count": 151,
   "id": "e28c0771",
   "metadata": {},
   "outputs": [
    {
     "name": "stderr",
     "output_type": "stream",
     "text": [
      "E:\\Anaconda\\lib\\site-packages\\sklearn\\neighbors\\_classification.py:228: FutureWarning: Unlike other reduction functions (e.g. `skew`, `kurtosis`), the default behavior of `mode` typically preserves the axis it acts along. In SciPy 1.11.0, this behavior will change: the default value of `keepdims` will become False, the `axis` over which the statistic is taken will be eliminated, and the value None will no longer be accepted. Set `keepdims` to True or False to avoid this warning.\n",
      "  mode, _ = stats.mode(_y[neigh_ind, k], axis=1)\n"
     ]
    },
    {
     "data": {
      "text/plain": [
       "array([0], dtype=int64)"
      ]
     },
     "execution_count": 151,
     "metadata": {},
     "output_type": "execute_result"
    }
   ],
   "source": [
    "lst = [0,67,0,1,1,1,1,228.69,36.6,1]\n",
    "a = np.array([[0,67,0,1,1,1,1,228.69,36.6,1]])\n",
    "arr = neigh1.predict(a)\n",
    "arr"
   ]
  },
  {
   "cell_type": "code",
   "execution_count": 152,
   "id": "3ae9952a",
   "metadata": {},
   "outputs": [
    {
     "data": {
      "text/plain": [
       "array([[  0.  ,  67.  ,   0.  ,   1.  ,   1.  ,   1.  ,   1.  , 228.69,\n",
       "         36.6 ,   1.  ]])"
      ]
     },
     "execution_count": 152,
     "metadata": {},
     "output_type": "execute_result"
    }
   ],
   "source": [
    "np.array([[0,67,0,1,1,1,1,228.69,36.6,1]])"
   ]
  },
  {
   "cell_type": "code",
   "execution_count": 150,
   "id": "b8e4ddf6",
   "metadata": {},
   "outputs": [
    {
     "data": {
      "text/plain": [
       "array([[  0.  ,  67.  ,   0.  ,   1.  ,   1.  ,   1.  ,   1.  , 228.69,\n",
       "         36.6 ,   1.  ]])"
      ]
     },
     "execution_count": 150,
     "metadata": {},
     "output_type": "execute_result"
    }
   ],
   "source": [
    "np.array([lst])"
   ]
  },
  {
   "cell_type": "markdown",
   "id": "65e01806",
   "metadata": {},
   "source": [
    "ANN"
   ]
  },
  {
   "cell_type": "code",
   "execution_count": 93,
   "id": "3252957f",
   "metadata": {},
   "outputs": [
    {
     "name": "stdout",
     "output_type": "stream",
     "text": [
      "Epoch 1/100\n",
      "123/123 [==============================] - 5s 5ms/step - loss: 0.2524 - accuracy: 0.9216\n",
      "Epoch 2/100\n",
      "123/123 [==============================] - 0s 4ms/step - loss: 0.1531 - accuracy: 0.9562\n",
      "Epoch 3/100\n",
      "123/123 [==============================] - 1s 4ms/step - loss: 0.1491 - accuracy: 0.9562\n",
      "Epoch 4/100\n",
      "123/123 [==============================] - 1s 5ms/step - loss: 0.1469 - accuracy: 0.9562\n",
      "Epoch 5/100\n",
      "123/123 [==============================] - 1s 5ms/step - loss: 0.1461 - accuracy: 0.9562\n",
      "Epoch 6/100\n",
      "123/123 [==============================] - 1s 4ms/step - loss: 0.1451 - accuracy: 0.9562\n",
      "Epoch 7/100\n",
      "123/123 [==============================] - 0s 4ms/step - loss: 0.1448 - accuracy: 0.9562\n",
      "Epoch 8/100\n",
      "123/123 [==============================] - 0s 4ms/step - loss: 0.1438 - accuracy: 0.9562\n",
      "Epoch 9/100\n",
      "123/123 [==============================] - 1s 5ms/step - loss: 0.1453 - accuracy: 0.9562\n",
      "Epoch 10/100\n",
      "123/123 [==============================] - 1s 5ms/step - loss: 0.1430 - accuracy: 0.9562\n",
      "Epoch 11/100\n",
      "123/123 [==============================] - 0s 4ms/step - loss: 0.1421 - accuracy: 0.9562\n",
      "Epoch 12/100\n",
      "123/123 [==============================] - 1s 6ms/step - loss: 0.1426 - accuracy: 0.9562\n",
      "Epoch 13/100\n",
      "123/123 [==============================] - 1s 5ms/step - loss: 0.1434 - accuracy: 0.9562\n",
      "Epoch 14/100\n",
      "123/123 [==============================] - 1s 5ms/step - loss: 0.1406 - accuracy: 0.9562\n",
      "Epoch 15/100\n",
      "123/123 [==============================] - 1s 4ms/step - loss: 0.1412 - accuracy: 0.9562\n",
      "Epoch 16/100\n",
      "123/123 [==============================] - 1s 5ms/step - loss: 0.1411 - accuracy: 0.9562\n",
      "Epoch 17/100\n",
      "123/123 [==============================] - 1s 5ms/step - loss: 0.1403 - accuracy: 0.9562\n",
      "Epoch 18/100\n",
      "123/123 [==============================] - 1s 4ms/step - loss: 0.1434 - accuracy: 0.9562\n",
      "Epoch 19/100\n",
      "123/123 [==============================] - 1s 5ms/step - loss: 0.1409 - accuracy: 0.9562\n",
      "Epoch 20/100\n",
      "123/123 [==============================] - 1s 5ms/step - loss: 0.1397 - accuracy: 0.9562\n",
      "Epoch 21/100\n",
      "123/123 [==============================] - 1s 4ms/step - loss: 0.1393 - accuracy: 0.9562\n",
      "Epoch 22/100\n",
      "123/123 [==============================] - 1s 5ms/step - loss: 0.1394 - accuracy: 0.9562\n",
      "Epoch 23/100\n",
      "123/123 [==============================] - 1s 5ms/step - loss: 0.1383 - accuracy: 0.9562\n",
      "Epoch 24/100\n",
      "123/123 [==============================] - 1s 4ms/step - loss: 0.1378 - accuracy: 0.9562\n",
      "Epoch 25/100\n",
      "123/123 [==============================] - 1s 5ms/step - loss: 0.1387 - accuracy: 0.9562\n",
      "Epoch 26/100\n",
      "123/123 [==============================] - 1s 4ms/step - loss: 0.1381 - accuracy: 0.9562\n",
      "Epoch 27/100\n",
      "123/123 [==============================] - 1s 5ms/step - loss: 0.1373 - accuracy: 0.9562\n",
      "Epoch 28/100\n",
      "123/123 [==============================] - 0s 4ms/step - loss: 0.1370 - accuracy: 0.9562\n",
      "Epoch 29/100\n",
      "123/123 [==============================] - 1s 5ms/step - loss: 0.1384 - accuracy: 0.9562\n",
      "Epoch 30/100\n",
      "123/123 [==============================] - 1s 5ms/step - loss: 0.1367 - accuracy: 0.9562\n",
      "Epoch 31/100\n",
      "123/123 [==============================] - 1s 5ms/step - loss: 0.1371 - accuracy: 0.9562\n",
      "Epoch 32/100\n",
      "123/123 [==============================] - 1s 5ms/step - loss: 0.1361 - accuracy: 0.9562\n",
      "Epoch 33/100\n",
      "123/123 [==============================] - 1s 4ms/step - loss: 0.1360 - accuracy: 0.9562\n",
      "Epoch 34/100\n",
      "123/123 [==============================] - 1s 5ms/step - loss: 0.1353 - accuracy: 0.9562\n",
      "Epoch 35/100\n",
      "123/123 [==============================] - 1s 5ms/step - loss: 0.1360 - accuracy: 0.9562\n",
      "Epoch 36/100\n",
      "123/123 [==============================] - 1s 4ms/step - loss: 0.1360 - accuracy: 0.9562\n",
      "Epoch 37/100\n",
      "123/123 [==============================] - 1s 5ms/step - loss: 0.1347 - accuracy: 0.9562\n",
      "Epoch 38/100\n",
      "123/123 [==============================] - 1s 4ms/step - loss: 0.1360 - accuracy: 0.9567\n",
      "Epoch 39/100\n",
      "123/123 [==============================] - 1s 5ms/step - loss: 0.1354 - accuracy: 0.9562\n",
      "Epoch 40/100\n",
      "123/123 [==============================] - 1s 5ms/step - loss: 0.1350 - accuracy: 0.9562: 0s - loss: 0.1256 \n",
      "Epoch 41/100\n",
      "123/123 [==============================] - 1s 4ms/step - loss: 0.1336 - accuracy: 0.9562\n",
      "Epoch 42/100\n",
      "123/123 [==============================] - 1s 5ms/step - loss: 0.1337 - accuracy: 0.9565\n",
      "Epoch 43/100\n",
      "123/123 [==============================] - 0s 4ms/step - loss: 0.1349 - accuracy: 0.9562\n",
      "Epoch 44/100\n",
      "123/123 [==============================] - 1s 5ms/step - loss: 0.1336 - accuracy: 0.9562\n",
      "Epoch 45/100\n",
      "123/123 [==============================] - 0s 4ms/step - loss: 0.1332 - accuracy: 0.9559\n",
      "Epoch 46/100\n",
      "123/123 [==============================] - 1s 5ms/step - loss: 0.1325 - accuracy: 0.9562\n",
      "Epoch 47/100\n",
      "123/123 [==============================] - 0s 4ms/step - loss: 0.1323 - accuracy: 0.9562\n",
      "Epoch 48/100\n",
      "123/123 [==============================] - 1s 6ms/step - loss: 0.1326 - accuracy: 0.9562\n",
      "Epoch 49/100\n",
      "123/123 [==============================] - 0s 4ms/step - loss: 0.1318 - accuracy: 0.9562\n",
      "Epoch 50/100\n",
      "123/123 [==============================] - 1s 5ms/step - loss: 0.1319 - accuracy: 0.9562\n",
      "Epoch 51/100\n",
      "123/123 [==============================] - 1s 4ms/step - loss: 0.1308 - accuracy: 0.9562\n",
      "Epoch 52/100\n",
      "123/123 [==============================] - 1s 4ms/step - loss: 0.1314 - accuracy: 0.9562\n",
      "Epoch 53/100\n",
      "123/123 [==============================] - 1s 5ms/step - loss: 0.1317 - accuracy: 0.9562\n",
      "Epoch 54/100\n",
      "123/123 [==============================] - 1s 6ms/step - loss: 0.1295 - accuracy: 0.9562\n",
      "Epoch 55/100\n",
      "123/123 [==============================] - 1s 5ms/step - loss: 0.1298 - accuracy: 0.9562\n",
      "Epoch 56/100\n",
      "123/123 [==============================] - 1s 5ms/step - loss: 0.1324 - accuracy: 0.9562\n",
      "Epoch 57/100\n",
      "123/123 [==============================] - 0s 4ms/step - loss: 0.1335 - accuracy: 0.9562\n",
      "Epoch 58/100\n",
      "123/123 [==============================] - 1s 4ms/step - loss: 0.1298 - accuracy: 0.9559\n",
      "Epoch 59/100\n",
      "123/123 [==============================] - 1s 4ms/step - loss: 0.1302 - accuracy: 0.9562\n",
      "Epoch 60/100\n",
      "123/123 [==============================] - 0s 3ms/step - loss: 0.1294 - accuracy: 0.9562\n",
      "Epoch 61/100\n",
      "123/123 [==============================] - 1s 5ms/step - loss: 0.1311 - accuracy: 0.9562\n",
      "Epoch 62/100\n",
      "123/123 [==============================] - 1s 5ms/step - loss: 0.1295 - accuracy: 0.9562\n",
      "Epoch 63/100\n",
      "123/123 [==============================] - 1s 6ms/step - loss: 0.1300 - accuracy: 0.9562\n",
      "Epoch 64/100\n",
      "123/123 [==============================] - 0s 4ms/step - loss: 0.1293 - accuracy: 0.9562\n",
      "Epoch 65/100\n",
      "123/123 [==============================] - 1s 5ms/step - loss: 0.1282 - accuracy: 0.9562\n",
      "Epoch 66/100\n",
      "123/123 [==============================] - 1s 4ms/step - loss: 0.1309 - accuracy: 0.9562\n",
      "Epoch 67/100\n",
      "123/123 [==============================] - 1s 5ms/step - loss: 0.1291 - accuracy: 0.9562\n",
      "Epoch 68/100\n",
      "123/123 [==============================] - 1s 5ms/step - loss: 0.1287 - accuracy: 0.9562\n",
      "Epoch 69/100\n",
      "123/123 [==============================] - 0s 4ms/step - loss: 0.1275 - accuracy: 0.9562\n",
      "Epoch 70/100\n",
      "123/123 [==============================] - 1s 5ms/step - loss: 0.1261 - accuracy: 0.9562\n",
      "Epoch 71/100\n",
      "123/123 [==============================] - 1s 5ms/step - loss: 0.1270 - accuracy: 0.9562\n",
      "Epoch 72/100\n",
      "123/123 [==============================] - 1s 5ms/step - loss: 0.1291 - accuracy: 0.9562\n",
      "Epoch 73/100\n",
      "123/123 [==============================] - 0s 4ms/step - loss: 0.1273 - accuracy: 0.9562\n",
      "Epoch 74/100\n",
      "123/123 [==============================] - 1s 4ms/step - loss: 0.1266 - accuracy: 0.9562\n",
      "Epoch 75/100\n",
      "123/123 [==============================] - 1s 4ms/step - loss: 0.1280 - accuracy: 0.9562\n",
      "Epoch 76/100\n",
      "123/123 [==============================] - 1s 5ms/step - loss: 0.1258 - accuracy: 0.9562\n",
      "Epoch 77/100\n",
      "123/123 [==============================] - 0s 3ms/step - loss: 0.1272 - accuracy: 0.9562\n",
      "Epoch 78/100\n",
      "123/123 [==============================] - 1s 5ms/step - loss: 0.1296 - accuracy: 0.9562\n",
      "Epoch 79/100\n",
      "123/123 [==============================] - 0s 4ms/step - loss: 0.1256 - accuracy: 0.9562\n",
      "Epoch 80/100\n",
      "123/123 [==============================] - 1s 5ms/step - loss: 0.1256 - accuracy: 0.9562\n",
      "Epoch 81/100\n",
      "123/123 [==============================] - 0s 3ms/step - loss: 0.1264 - accuracy: 0.9562\n",
      "Epoch 82/100\n",
      "123/123 [==============================] - 1s 5ms/step - loss: 0.1244 - accuracy: 0.9562\n",
      "Epoch 83/100\n",
      "123/123 [==============================] - 1s 4ms/step - loss: 0.1272 - accuracy: 0.9562\n",
      "Epoch 84/100\n",
      "123/123 [==============================] - 1s 5ms/step - loss: 0.1228 - accuracy: 0.9562\n",
      "Epoch 85/100\n",
      "123/123 [==============================] - 1s 5ms/step - loss: 0.1248 - accuracy: 0.9562\n",
      "Epoch 86/100\n",
      "123/123 [==============================] - 1s 4ms/step - loss: 0.1239 - accuracy: 0.9562\n",
      "Epoch 87/100\n",
      "123/123 [==============================] - 1s 6ms/step - loss: 0.1227 - accuracy: 0.9562\n",
      "Epoch 88/100\n",
      "123/123 [==============================] - 1s 4ms/step - loss: 0.1250 - accuracy: 0.9562\n",
      "Epoch 89/100\n",
      "123/123 [==============================] - 1s 5ms/step - loss: 0.1251 - accuracy: 0.9562\n",
      "Epoch 90/100\n",
      "123/123 [==============================] - 0s 4ms/step - loss: 0.1279 - accuracy: 0.9562\n",
      "Epoch 91/100\n",
      "123/123 [==============================] - 1s 5ms/step - loss: 0.1242 - accuracy: 0.9562\n",
      "Epoch 92/100\n",
      "123/123 [==============================] - 1s 5ms/step - loss: 0.1214 - accuracy: 0.9562\n",
      "Epoch 93/100\n",
      "123/123 [==============================] - 1s 5ms/step - loss: 0.1226 - accuracy: 0.9562\n",
      "Epoch 94/100\n",
      "123/123 [==============================] - 0s 4ms/step - loss: 0.1243 - accuracy: 0.9562\n",
      "Epoch 95/100\n",
      "123/123 [==============================] - 1s 5ms/step - loss: 0.1250 - accuracy: 0.9562\n",
      "Epoch 96/100\n",
      "123/123 [==============================] - 1s 4ms/step - loss: 0.1217 - accuracy: 0.9562\n",
      "Epoch 97/100\n",
      "123/123 [==============================] - 1s 5ms/step - loss: 0.1223 - accuracy: 0.9562\n",
      "Epoch 98/100\n",
      "123/123 [==============================] - 0s 4ms/step - loss: 0.1224 - accuracy: 0.9562\n",
      "Epoch 99/100\n",
      "123/123 [==============================] - 1s 4ms/step - loss: 0.1207 - accuracy: 0.9562: 0s - loss: 0.1054 - \n",
      "Epoch 100/100\n",
      "123/123 [==============================] - 1s 5ms/step - loss: 0.1213 - accuracy: 0.9562\n"
     ]
    },
    {
     "data": {
      "text/plain": [
       "<keras.callbacks.History at 0x225ba5fb970>"
      ]
     },
     "execution_count": 93,
     "metadata": {},
     "output_type": "execute_result"
    }
   ],
   "source": [
    "model = Sequential()\n",
    "\n",
    "model.add(Dense(8, activation=\"relu\", input_dim = 10))\n",
    "model.add(Dense(16, activation=\"relu\"))\n",
    "model.add(Dense(8, activation=\"relu\"))\n",
    "model.add(Dense(1, activation=\"sigmoid\"))\n",
    "model.compile(Adam(learning_rate=0.01), loss = \"binary_crossentropy\", metrics=[\"accuracy\"])\n",
    "model.fit(X_train, y_train, epochs=100)"
   ]
  },
  {
   "cell_type": "code",
   "execution_count": 67,
   "id": "d5065bbb",
   "metadata": {},
   "outputs": [
    {
     "ename": "RuntimeError",
     "evalue": "You must compile your model before training/testing. Use `model.compile(optimizer, loss)`.",
     "output_type": "error",
     "traceback": [
      "\u001b[1;31m---------------------------------------------------------------------------\u001b[0m",
      "\u001b[1;31mRuntimeError\u001b[0m                              Traceback (most recent call last)",
      "\u001b[1;32m~\\AppData\\Local\\Temp\\ipykernel_8256\\850750186.py\u001b[0m in \u001b[0;36m<module>\u001b[1;34m\u001b[0m\n\u001b[1;32m----> 1\u001b[1;33m \u001b[0macc\u001b[0m\u001b[1;33m,\u001b[0m\u001b[0mloss\u001b[0m \u001b[1;33m=\u001b[0m \u001b[0mmodel\u001b[0m\u001b[1;33m.\u001b[0m\u001b[0mevaluate\u001b[0m\u001b[1;33m(\u001b[0m\u001b[0mX_test\u001b[0m\u001b[1;33m,\u001b[0m\u001b[0my_test\u001b[0m\u001b[1;33m)\u001b[0m\u001b[1;33m\u001b[0m\u001b[1;33m\u001b[0m\u001b[0m\n\u001b[0m",
      "\u001b[1;32mE:\\Anaconda\\lib\\site-packages\\keras\\utils\\traceback_utils.py\u001b[0m in \u001b[0;36merror_handler\u001b[1;34m(*args, **kwargs)\u001b[0m\n\u001b[0;32m     65\u001b[0m     \u001b[1;32mexcept\u001b[0m \u001b[0mException\u001b[0m \u001b[1;32mas\u001b[0m \u001b[0me\u001b[0m\u001b[1;33m:\u001b[0m  \u001b[1;31m# pylint: disable=broad-except\u001b[0m\u001b[1;33m\u001b[0m\u001b[1;33m\u001b[0m\u001b[0m\n\u001b[0;32m     66\u001b[0m       \u001b[0mfiltered_tb\u001b[0m \u001b[1;33m=\u001b[0m \u001b[0m_process_traceback_frames\u001b[0m\u001b[1;33m(\u001b[0m\u001b[0me\u001b[0m\u001b[1;33m.\u001b[0m\u001b[0m__traceback__\u001b[0m\u001b[1;33m)\u001b[0m\u001b[1;33m\u001b[0m\u001b[1;33m\u001b[0m\u001b[0m\n\u001b[1;32m---> 67\u001b[1;33m       \u001b[1;32mraise\u001b[0m \u001b[0me\u001b[0m\u001b[1;33m.\u001b[0m\u001b[0mwith_traceback\u001b[0m\u001b[1;33m(\u001b[0m\u001b[0mfiltered_tb\u001b[0m\u001b[1;33m)\u001b[0m \u001b[1;32mfrom\u001b[0m \u001b[1;32mNone\u001b[0m\u001b[1;33m\u001b[0m\u001b[1;33m\u001b[0m\u001b[0m\n\u001b[0m\u001b[0;32m     68\u001b[0m     \u001b[1;32mfinally\u001b[0m\u001b[1;33m:\u001b[0m\u001b[1;33m\u001b[0m\u001b[1;33m\u001b[0m\u001b[0m\n\u001b[0;32m     69\u001b[0m       \u001b[1;32mdel\u001b[0m \u001b[0mfiltered_tb\u001b[0m\u001b[1;33m\u001b[0m\u001b[1;33m\u001b[0m\u001b[0m\n",
      "\u001b[1;32mE:\\Anaconda\\lib\\site-packages\\keras\\engine\\training.py\u001b[0m in \u001b[0;36m_assert_compile_was_called\u001b[1;34m(self)\u001b[0m\n\u001b[0;32m   2860\u001b[0m     \u001b[1;31m# (i.e. whether the model is built and its inputs/outputs are set).\u001b[0m\u001b[1;33m\u001b[0m\u001b[1;33m\u001b[0m\u001b[0m\n\u001b[0;32m   2861\u001b[0m     \u001b[1;32mif\u001b[0m \u001b[1;32mnot\u001b[0m \u001b[0mself\u001b[0m\u001b[1;33m.\u001b[0m\u001b[0m_is_compiled\u001b[0m\u001b[1;33m:\u001b[0m\u001b[1;33m\u001b[0m\u001b[1;33m\u001b[0m\u001b[0m\n\u001b[1;32m-> 2862\u001b[1;33m       raise RuntimeError('You must compile your model before '\n\u001b[0m\u001b[0;32m   2863\u001b[0m                          \u001b[1;34m'training/testing. '\u001b[0m\u001b[1;33m\u001b[0m\u001b[1;33m\u001b[0m\u001b[0m\n\u001b[0;32m   2864\u001b[0m                          'Use `model.compile(optimizer, loss)`.')\n",
      "\u001b[1;31mRuntimeError\u001b[0m: You must compile your model before training/testing. Use `model.compile(optimizer, loss)`."
     ]
    }
   ],
   "source": [
    "acc,loss = model.evaluate(X_test,y_test)"
   ]
  },
  {
   "cell_type": "code",
   "execution_count": 25,
   "id": "84397583",
   "metadata": {},
   "outputs": [],
   "source": [
    "modeljson = model.to_json()\n",
    "obj=open(\"D:/Datasets/Stroke.json\",\"w\")\n",
    "obj.write(modeljson)\n",
    "obj.close()\n",
    "model.save_weights(\"D:/Datasets/Stroke.h5\")"
   ]
  },
  {
   "cell_type": "code",
   "execution_count": 104,
   "id": "851f3f06",
   "metadata": {},
   "outputs": [],
   "source": [
    "from tensorflow.keras.models import model_from_json\n",
    "abc=open(\"D:/Datasets/LiverDisease.json\",\"r\")\n",
    "loaded_data=abc.read()\n",
    "model=model_from_json(loaded_data)\n",
    "model.load_weights(\"D:/Datasets/LiverDisease.h5\")"
   ]
  },
  {
   "cell_type": "code",
   "execution_count": 111,
   "id": "a0959de7",
   "metadata": {},
   "outputs": [],
   "source": [
    "lst = [1,21,1,1,1,0,1,229,40,1]\n",
    "arr = model.predict(np.array([lst,]))"
   ]
  },
  {
   "cell_type": "code",
   "execution_count": 112,
   "id": "addee52a",
   "metadata": {},
   "outputs": [
    {
     "data": {
      "text/plain": [
       "array([[0.]], dtype=float32)"
      ]
     },
     "execution_count": 112,
     "metadata": {},
     "output_type": "execute_result"
    }
   ],
   "source": [
    "arr"
   ]
  },
  {
   "cell_type": "code",
   "execution_count": 4,
   "id": "5df63a7d",
   "metadata": {},
   "outputs": [],
   "source": [
    "from flask import Flask, render_template, request, redirect, url_for"
   ]
  },
  {
   "cell_type": "code",
   "execution_count": 23,
   "id": "a1af5715",
   "metadata": {},
   "outputs": [],
   "source": [
    "app = Flask(__name__)\n",
    "\n",
    "@app.route('/')\n",
    "def home():\n",
    "    return render_template('home.html')\n",
    "\n",
    "@app.route('/predict', methods = ['POST'])\n",
    "def predict():\n",
    "    if request.method == 'POST':\n",
    "        lst = [request.form('gender'),\n",
    "               request.form('age'),\n",
    "               request.form('hypertension'),\n",
    "               request.form('heart_disease'),\n",
    "               request.form('ever_married'),\n",
    "               request.form('work_type'),\n",
    "               request.form('Residence_type'),\n",
    "               request.form('vg_glucose_level'),\n",
    "               request.form('bmi'),\n",
    "               request.form('smoking_status')]\n",
    "        arr = numpy.array(lst)\n",
    "        output = model.predict(arr)\n",
    "        \n",
    "    return render_template('results.html', prediction_text = \" Stroke : {}\".format(output))\n"
   ]
  },
  {
   "cell_type": "code",
   "execution_count": 24,
   "id": "929a5aae",
   "metadata": {},
   "outputs": [
    {
     "name": "stdout",
     "output_type": "stream",
     "text": [
      " * Serving Flask app \"__main__\" (lazy loading)\n",
      " * Environment: production\n",
      "\u001b[31m   WARNING: This is a development server. Do not use it in a production deployment.\u001b[0m\n",
      "\u001b[2m   Use a production WSGI server instead.\u001b[0m\n",
      " * Debug mode: on\n"
     ]
    },
    {
     "name": "stderr",
     "output_type": "stream",
     "text": [
      " * Restarting with watchdog (windowsapi)\n"
     ]
    },
    {
     "ename": "SystemExit",
     "evalue": "1",
     "output_type": "error",
     "traceback": [
      "An exception has occurred, use %tb to see the full traceback.\n",
      "\u001b[1;31mSystemExit\u001b[0m\u001b[1;31m:\u001b[0m 1\n"
     ]
    }
   ],
   "source": [
    "if __name__ == \"__main__\":\n",
    "    app.run(debug=True)"
   ]
  },
  {
   "cell_type": "markdown",
   "id": "93308a38",
   "metadata": {},
   "source": [
    "# LIVER DISEASE"
   ]
  },
  {
   "cell_type": "code",
   "execution_count": 1,
   "id": "e15f07ab",
   "metadata": {},
   "outputs": [],
   "source": [
    "import itertools\n",
    "import numpy as np\n",
    "import matplotlib.pyplot as plt\n",
    "from matplotlib.ticker import NullFormatter\n",
    "import pandas as pd\n",
    "pd.options.mode.chained_assignment = None\n",
    "import matplotlib.ticker as ticker\n",
    "from sklearn import preprocessing\n",
    "%matplotlib inline\n",
    "from sklearn.neighbors import KNeighborsClassifier\n",
    "import pandas as pd\n",
    "pd.options.mode.chained_assignment = None\n",
    "from tensorflow.keras.layers import InputLayer,Dense, Activation,Dropout\n",
    "from tensorflow.keras.models import Sequential\n",
    "from tensorflow.keras.optimizers import Adam\n",
    "from sklearn.preprocessing import StandardScaler"
   ]
  },
  {
   "cell_type": "code",
   "execution_count": 113,
   "id": "a2a3c2fa",
   "metadata": {},
   "outputs": [],
   "source": [
    "df=pd.read_csv('E:/Downloads/disease detection/liver.csv', encoding = 'unicode_escape')"
   ]
  },
  {
   "cell_type": "code",
   "execution_count": 114,
   "id": "e9f98797",
   "metadata": {},
   "outputs": [
    {
     "data": {
      "text/html": [
       "<div>\n",
       "<style scoped>\n",
       "    .dataframe tbody tr th:only-of-type {\n",
       "        vertical-align: middle;\n",
       "    }\n",
       "\n",
       "    .dataframe tbody tr th {\n",
       "        vertical-align: top;\n",
       "    }\n",
       "\n",
       "    .dataframe thead th {\n",
       "        text-align: right;\n",
       "    }\n",
       "</style>\n",
       "<table border=\"1\" class=\"dataframe\">\n",
       "  <thead>\n",
       "    <tr style=\"text-align: right;\">\n",
       "      <th></th>\n",
       "      <th>Total Bilirubin</th>\n",
       "      <th>Direct Bilirubin</th>\n",
       "      <th>Alkphos Alkaline Phosphotase</th>\n",
       "      <th>Sgpt Alamine Aminotransferase</th>\n",
       "      <th>Total Protiens</th>\n",
       "      <th>ALB Albumin</th>\n",
       "      <th>A/G Ratio Albumin and Globulin Ratio</th>\n",
       "      <th>Result</th>\n",
       "    </tr>\n",
       "  </thead>\n",
       "  <tbody>\n",
       "    <tr>\n",
       "      <th>0</th>\n",
       "      <td>0.7</td>\n",
       "      <td>0.1</td>\n",
       "      <td>187.0</td>\n",
       "      <td>16.0</td>\n",
       "      <td>6.8</td>\n",
       "      <td>3.3</td>\n",
       "      <td>0.90</td>\n",
       "      <td>1</td>\n",
       "    </tr>\n",
       "    <tr>\n",
       "      <th>1</th>\n",
       "      <td>10.9</td>\n",
       "      <td>5.5</td>\n",
       "      <td>699.0</td>\n",
       "      <td>64.0</td>\n",
       "      <td>7.5</td>\n",
       "      <td>3.2</td>\n",
       "      <td>0.74</td>\n",
       "      <td>1</td>\n",
       "    </tr>\n",
       "    <tr>\n",
       "      <th>2</th>\n",
       "      <td>7.3</td>\n",
       "      <td>4.1</td>\n",
       "      <td>490.0</td>\n",
       "      <td>60.0</td>\n",
       "      <td>7.0</td>\n",
       "      <td>3.3</td>\n",
       "      <td>0.89</td>\n",
       "      <td>1</td>\n",
       "    </tr>\n",
       "    <tr>\n",
       "      <th>3</th>\n",
       "      <td>1.0</td>\n",
       "      <td>0.4</td>\n",
       "      <td>182.0</td>\n",
       "      <td>14.0</td>\n",
       "      <td>6.8</td>\n",
       "      <td>3.4</td>\n",
       "      <td>1.00</td>\n",
       "      <td>1</td>\n",
       "    </tr>\n",
       "    <tr>\n",
       "      <th>4</th>\n",
       "      <td>3.9</td>\n",
       "      <td>2.0</td>\n",
       "      <td>195.0</td>\n",
       "      <td>27.0</td>\n",
       "      <td>7.3</td>\n",
       "      <td>2.4</td>\n",
       "      <td>0.40</td>\n",
       "      <td>1</td>\n",
       "    </tr>\n",
       "  </tbody>\n",
       "</table>\n",
       "</div>"
      ],
      "text/plain": [
       "   Total Bilirubin  Direct Bilirubin  Alkphos Alkaline Phosphotase  \\\n",
       "0              0.7               0.1                         187.0   \n",
       "1             10.9               5.5                         699.0   \n",
       "2              7.3               4.1                         490.0   \n",
       "3              1.0               0.4                         182.0   \n",
       "4              3.9               2.0                         195.0   \n",
       "\n",
       "   Sgpt Alamine Aminotransferase  Total Protiens  ALB Albumin  \\\n",
       "0                           16.0             6.8          3.3   \n",
       "1                           64.0             7.5          3.2   \n",
       "2                           60.0             7.0          3.3   \n",
       "3                           14.0             6.8          3.4   \n",
       "4                           27.0             7.3          2.4   \n",
       "\n",
       "   A/G Ratio Albumin and Globulin Ratio  Result  \n",
       "0                                  0.90       1  \n",
       "1                                  0.74       1  \n",
       "2                                  0.89       1  \n",
       "3                                  1.00       1  \n",
       "4                                  0.40       1  "
      ]
     },
     "execution_count": 114,
     "metadata": {},
     "output_type": "execute_result"
    }
   ],
   "source": [
    "df.head()"
   ]
  },
  {
   "cell_type": "code",
   "execution_count": 115,
   "id": "24183896",
   "metadata": {},
   "outputs": [],
   "source": [
    "for i,j in enumerate(df['Result']):\n",
    "    if j == 1:\n",
    "        df['Result'][i] = 0\n",
    "    else:\n",
    "        df['Result'][i] = 1"
   ]
  },
  {
   "cell_type": "code",
   "execution_count": 116,
   "id": "aa2637e5",
   "metadata": {},
   "outputs": [
    {
     "data": {
      "text/plain": [
       "Total Bilirubin                         648\n",
       "Direct Bilirubin                        561\n",
       "Alkphos Alkaline Phosphotase            796\n",
       "Sgpt Alamine Aminotransferase           538\n",
       "Total Protiens                          463\n",
       "ALB Albumin                             494\n",
       "A/G Ratio Albumin and Globulin Ratio    559\n",
       "Result                                    0\n",
       "dtype: int64"
      ]
     },
     "execution_count": 116,
     "metadata": {},
     "output_type": "execute_result"
    }
   ],
   "source": [
    "df.isnull().sum()"
   ]
  },
  {
   "cell_type": "code",
   "execution_count": 117,
   "id": "56309482",
   "metadata": {},
   "outputs": [],
   "source": [
    "df=df.dropna()"
   ]
  },
  {
   "cell_type": "code",
   "execution_count": 118,
   "id": "f1be29b0",
   "metadata": {},
   "outputs": [],
   "source": [
    "X = df[['Total Bilirubin', 'Direct Bilirubin', 'Alkphos Alkaline Phosphotase', 'Sgpt Alamine Aminotransferase', 'Total Protiens', 'ALB Albumin', 'A/G Ratio Albumin and Globulin Ratio']].values\n",
    "Y = df['Result']"
   ]
  },
  {
   "cell_type": "code",
   "execution_count": 119,
   "id": "ccf297fe",
   "metadata": {},
   "outputs": [],
   "source": [
    "X=preprocessing.StandardScaler().fit(X).transform(X.astype(float))"
   ]
  },
  {
   "cell_type": "code",
   "execution_count": 120,
   "id": "8614046a",
   "metadata": {},
   "outputs": [
    {
     "name": "stdout",
     "output_type": "stream",
     "text": [
      "Train set: (22251, 7) (22251,)\n",
      "Test set: (5563, 7) (5563,)\n"
     ]
    }
   ],
   "source": [
    "from sklearn.model_selection import train_test_split\n",
    "X_train, X_test, y_train, y_test = train_test_split( X, Y, test_size=0.2, random_state=4)\n",
    "print ('Train set:', X_train.shape,  y_train.shape)\n",
    "print ('Test set:', X_test.shape,  y_test.shape)"
   ]
  },
  {
   "cell_type": "markdown",
   "id": "60a481f4",
   "metadata": {},
   "source": [
    "ANN"
   ]
  },
  {
   "cell_type": "code",
   "execution_count": 121,
   "id": "8bf45856",
   "metadata": {},
   "outputs": [
    {
     "name": "stdout",
     "output_type": "stream",
     "text": [
      "Epoch 1/100\n",
      "696/696 [==============================] - 1s 903us/step - loss: 0.4898 - accuracy: 0.7131\n",
      "Epoch 2/100\n",
      "696/696 [==============================] - 1s 910us/step - loss: 0.4534 - accuracy: 0.7165\n",
      "Epoch 3/100\n",
      "696/696 [==============================] - 1s 882us/step - loss: 0.4235 - accuracy: 0.7310\n",
      "Epoch 4/100\n",
      "696/696 [==============================] - 1s 891us/step - loss: 0.4122 - accuracy: 0.7464\n",
      "Epoch 5/100\n",
      "696/696 [==============================] - 1s 910us/step - loss: 0.3972 - accuracy: 0.7575\n",
      "Epoch 6/100\n",
      "696/696 [==============================] - 1s 908us/step - loss: 0.4017 - accuracy: 0.7564\n",
      "Epoch 7/100\n",
      "696/696 [==============================] - 1s 908us/step - loss: 0.3865 - accuracy: 0.7650\n",
      "Epoch 8/100\n",
      "696/696 [==============================] - 1s 921us/step - loss: 0.3793 - accuracy: 0.7744\n",
      "Epoch 9/100\n",
      "696/696 [==============================] - 1s 1ms/step - loss: 0.3725 - accuracy: 0.7805\n",
      "Epoch 10/100\n",
      "696/696 [==============================] - 1s 1ms/step - loss: 0.3693 - accuracy: 0.7797\n",
      "Epoch 11/100\n",
      "696/696 [==============================] - 1s 966us/step - loss: 0.3601 - accuracy: 0.7848\n",
      "Epoch 12/100\n",
      "696/696 [==============================] - 1s 893us/step - loss: 0.3692 - accuracy: 0.7762\n",
      "Epoch 13/100\n",
      "696/696 [==============================] - 1s 891us/step - loss: 0.3421 - accuracy: 0.7978\n",
      "Epoch 14/100\n",
      "696/696 [==============================] - 1s 894us/step - loss: 0.3414 - accuracy: 0.8011\n",
      "Epoch 15/100\n",
      "696/696 [==============================] - 1s 910us/step - loss: 0.3276 - accuracy: 0.8097\n",
      "Epoch 16/100\n",
      "696/696 [==============================] - 1s 913us/step - loss: 0.3174 - accuracy: 0.8249\n",
      "Epoch 17/100\n",
      "696/696 [==============================] - 1s 902us/step - loss: 0.3128 - accuracy: 0.8319\n",
      "Epoch 18/100\n",
      "696/696 [==============================] - 1s 904us/step - loss: 0.2985 - accuracy: 0.8443\n",
      "Epoch 19/100\n",
      "696/696 [==============================] - 1s 919us/step - loss: 0.2924 - accuracy: 0.8460\n",
      "Epoch 20/100\n",
      "696/696 [==============================] - 1s 903us/step - loss: 0.2846 - accuracy: 0.8524\n",
      "Epoch 21/100\n",
      "696/696 [==============================] - 1s 916us/step - loss: 0.2795 - accuracy: 0.8561\n",
      "Epoch 22/100\n",
      "696/696 [==============================] - 1s 918us/step - loss: 0.2943 - accuracy: 0.8485\n",
      "Epoch 23/100\n",
      "696/696 [==============================] - 1s 894us/step - loss: 0.2772 - accuracy: 0.8575\n",
      "Epoch 24/100\n",
      "696/696 [==============================] - 1s 895us/step - loss: 0.2653 - accuracy: 0.8631\n",
      "Epoch 25/100\n",
      "696/696 [==============================] - 1s 915us/step - loss: 0.2891 - accuracy: 0.8529\n",
      "Epoch 26/100\n",
      "696/696 [==============================] - 1s 919us/step - loss: 0.2622 - accuracy: 0.8641\n",
      "Epoch 27/100\n",
      "696/696 [==============================] - 1s 920us/step - loss: 0.2732 - accuracy: 0.8583\n",
      "Epoch 28/100\n",
      "696/696 [==============================] - 1s 909us/step - loss: 0.2887 - accuracy: 0.8506\n",
      "Epoch 29/100\n",
      "696/696 [==============================] - 1s 927us/step - loss: 0.2675 - accuracy: 0.8583\n",
      "Epoch 30/100\n",
      "696/696 [==============================] - 1s 978us/step - loss: 0.2793 - accuracy: 0.8532\n",
      "Epoch 31/100\n",
      "696/696 [==============================] - 1s 1ms/step - loss: 0.2657 - accuracy: 0.8623\n",
      "Epoch 32/100\n",
      "696/696 [==============================] - 1s 909us/step - loss: 0.2732 - accuracy: 0.8593\n",
      "Epoch 33/100\n",
      "696/696 [==============================] - 1s 905us/step - loss: 0.2632 - accuracy: 0.8658\n",
      "Epoch 34/100\n",
      "696/696 [==============================] - 1s 1ms/step - loss: 0.2663 - accuracy: 0.8644\n",
      "Epoch 35/100\n",
      "696/696 [==============================] - 1s 929us/step - loss: 0.2664 - accuracy: 0.8645\n",
      "Epoch 36/100\n",
      "696/696 [==============================] - 1s 921us/step - loss: 0.2578 - accuracy: 0.8658\n",
      "Epoch 37/100\n",
      "696/696 [==============================] - 1s 1ms/step - loss: 0.2838 - accuracy: 0.8542\n",
      "Epoch 38/100\n",
      "696/696 [==============================] - 1s 829us/step - loss: 0.2657 - accuracy: 0.8636\n",
      "Epoch 39/100\n",
      "696/696 [==============================] - 1s 819us/step - loss: 0.2628 - accuracy: 0.8643\n",
      "Epoch 40/100\n",
      "696/696 [==============================] - 1s 856us/step - loss: 0.2739 - accuracy: 0.8625\n",
      "Epoch 41/100\n",
      "696/696 [==============================] - 1s 844us/step - loss: 0.2602 - accuracy: 0.8654\n",
      "Epoch 42/100\n",
      "696/696 [==============================] - 1s 909us/step - loss: 0.2871 - accuracy: 0.8523\n",
      "Epoch 43/100\n",
      "696/696 [==============================] - 1s 858us/step - loss: 0.2516 - accuracy: 0.8722\n",
      "Epoch 44/100\n",
      "696/696 [==============================] - 1s 835us/step - loss: 0.2658 - accuracy: 0.8644\n",
      "Epoch 45/100\n",
      "696/696 [==============================] - 1s 838us/step - loss: 0.2652 - accuracy: 0.8660\n",
      "Epoch 46/100\n",
      "696/696 [==============================] - 1s 813us/step - loss: 0.3187 - accuracy: 0.8309\n",
      "Epoch 47/100\n",
      "696/696 [==============================] - 1s 836us/step - loss: 0.2978 - accuracy: 0.8474\n",
      "Epoch 48/100\n",
      "696/696 [==============================] - 1s 844us/step - loss: 0.2448 - accuracy: 0.8710\n",
      "Epoch 49/100\n",
      "696/696 [==============================] - 1s 853us/step - loss: 0.2897 - accuracy: 0.8580\n",
      "Epoch 50/100\n",
      "696/696 [==============================] - 1s 959us/step - loss: 0.3423 - accuracy: 0.8337\n",
      "Epoch 51/100\n",
      "696/696 [==============================] - 1s 895us/step - loss: 0.2803 - accuracy: 0.8521\n",
      "Epoch 52/100\n",
      "696/696 [==============================] - 1s 1ms/step - loss: 0.2769 - accuracy: 0.8560\n",
      "Epoch 53/100\n",
      "696/696 [==============================] - 1s 954us/step - loss: 0.2868 - accuracy: 0.8549\n",
      "Epoch 54/100\n",
      "696/696 [==============================] - 1s 1ms/step - loss: 0.2861 - accuracy: 0.8528\n",
      "Epoch 55/100\n",
      "696/696 [==============================] - 1s 1ms/step - loss: 0.2586 - accuracy: 0.8649\n",
      "Epoch 56/100\n",
      "696/696 [==============================] - 1s 1ms/step - loss: 0.2602 - accuracy: 0.8673\n",
      "Epoch 57/100\n",
      "696/696 [==============================] - 1s 958us/step - loss: 0.2727 - accuracy: 0.8635\n",
      "Epoch 58/100\n",
      "696/696 [==============================] - 1s 1ms/step - loss: 0.2635 - accuracy: 0.8689\n",
      "Epoch 59/100\n",
      "696/696 [==============================] - 1s 1ms/step - loss: 0.2655 - accuracy: 0.8713\n",
      "Epoch 60/100\n",
      "696/696 [==============================] - 1s 874us/step - loss: 0.3199 - accuracy: 0.8368\n",
      "Epoch 61/100\n",
      "696/696 [==============================] - 1s 861us/step - loss: 0.3090 - accuracy: 0.8343\n",
      "Epoch 62/100\n",
      "696/696 [==============================] - 1s 840us/step - loss: 0.2927 - accuracy: 0.8457\n",
      "Epoch 63/100\n",
      "696/696 [==============================] - 1s 932us/step - loss: 0.3245 - accuracy: 0.8213\n",
      "Epoch 64/100\n",
      "696/696 [==============================] - 1s 915us/step - loss: 0.2793 - accuracy: 0.8481\n",
      "Epoch 65/100\n",
      "696/696 [==============================] - 1s 890us/step - loss: 0.2804 - accuracy: 0.8504\n",
      "Epoch 66/100\n",
      "696/696 [==============================] - 1s 830us/step - loss: 0.2635 - accuracy: 0.8564\n",
      "Epoch 67/100\n",
      "696/696 [==============================] - 1s 865us/step - loss: 0.2632 - accuracy: 0.8598\n",
      "Epoch 68/100\n",
      "696/696 [==============================] - 1s 856us/step - loss: 0.2797 - accuracy: 0.8546\n",
      "Epoch 69/100\n",
      "696/696 [==============================] - 1s 969us/step - loss: 0.2609 - accuracy: 0.8624\n",
      "Epoch 70/100\n",
      "696/696 [==============================] - 1s 858us/step - loss: 0.2646 - accuracy: 0.8610\n",
      "Epoch 71/100\n",
      "696/696 [==============================] - 1s 835us/step - loss: 0.2700 - accuracy: 0.8606\n",
      "Epoch 72/100\n",
      "696/696 [==============================] - 1s 887us/step - loss: 0.2584 - accuracy: 0.8668\n",
      "Epoch 73/100\n",
      "696/696 [==============================] - 1s 916us/step - loss: 0.2680 - accuracy: 0.8643\n",
      "Epoch 74/100\n",
      "696/696 [==============================] - 1s 835us/step - loss: 0.2469 - accuracy: 0.8705\n",
      "Epoch 75/100\n",
      "696/696 [==============================] - 1s 961us/step - loss: 0.2416 - accuracy: 0.8715\n",
      "Epoch 76/100\n",
      "696/696 [==============================] - 1s 908us/step - loss: 0.2487 - accuracy: 0.8716\n",
      "Epoch 77/100\n",
      "696/696 [==============================] - 1s 855us/step - loss: 0.2394 - accuracy: 0.8748\n",
      "Epoch 78/100\n",
      "696/696 [==============================] - 1s 829us/step - loss: 0.2759 - accuracy: 0.8603\n",
      "Epoch 79/100\n",
      "696/696 [==============================] - 1s 835us/step - loss: 0.2707 - accuracy: 0.8604\n",
      "Epoch 80/100\n"
     ]
    },
    {
     "name": "stdout",
     "output_type": "stream",
     "text": [
      "696/696 [==============================] - 1s 878us/step - loss: 0.2717 - accuracy: 0.8587\n",
      "Epoch 81/100\n",
      "696/696 [==============================] - 1s 832us/step - loss: 0.2407 - accuracy: 0.8759\n",
      "Epoch 82/100\n",
      "696/696 [==============================] - 1s 836us/step - loss: 0.2579 - accuracy: 0.8704\n",
      "Epoch 83/100\n",
      "696/696 [==============================] - 1s 896us/step - loss: 0.2413 - accuracy: 0.8755\n",
      "Epoch 84/100\n",
      "696/696 [==============================] - 1s 985us/step - loss: 0.2951 - accuracy: 0.8427\n",
      "Epoch 85/100\n",
      "696/696 [==============================] - 1s 997us/step - loss: 0.2689 - accuracy: 0.8509\n",
      "Epoch 86/100\n",
      "696/696 [==============================] - 1s 986us/step - loss: 0.2638 - accuracy: 0.8603\n",
      "Epoch 87/100\n",
      "696/696 [==============================] - 1s 1ms/step - loss: 0.2516 - accuracy: 0.8740\n",
      "Epoch 88/100\n",
      "696/696 [==============================] - 1s 843us/step - loss: 0.2422 - accuracy: 0.8766\n",
      "Epoch 89/100\n",
      "696/696 [==============================] - 1s 1ms/step - loss: 0.3165 - accuracy: 0.8433\n",
      "Epoch 90/100\n",
      "696/696 [==============================] - 1s 1ms/step - loss: 0.2806 - accuracy: 0.8500\n",
      "Epoch 91/100\n",
      "696/696 [==============================] - 1s 956us/step - loss: 0.2814 - accuracy: 0.8510\n",
      "Epoch 92/100\n",
      "696/696 [==============================] - 1s 904us/step - loss: 0.2590 - accuracy: 0.8658\n",
      "Epoch 93/100\n",
      "696/696 [==============================] - 1s 1ms/step - loss: 0.2703 - accuracy: 0.8615\n",
      "Epoch 94/100\n",
      "696/696 [==============================] - 1s 1ms/step - loss: 0.2362 - accuracy: 0.8805\n",
      "Epoch 95/100\n",
      "696/696 [==============================] - 1s 894us/step - loss: 0.2294 - accuracy: 0.8854\n",
      "Epoch 96/100\n",
      "696/696 [==============================] - 1s 856us/step - loss: 0.2647 - accuracy: 0.8691\n",
      "Epoch 97/100\n",
      "696/696 [==============================] - 1s 1ms/step - loss: 0.2509 - accuracy: 0.8750\n",
      "Epoch 98/100\n",
      "696/696 [==============================] - 1s 942us/step - loss: 0.2325 - accuracy: 0.8864\n",
      "Epoch 99/100\n",
      "696/696 [==============================] - 1s 985us/step - loss: 0.2430 - accuracy: 0.8800\n",
      "Epoch 100/100\n",
      "696/696 [==============================] - 1s 981us/step - loss: 0.2324 - accuracy: 0.8848\n"
     ]
    },
    {
     "data": {
      "text/plain": [
       "<keras.callbacks.History at 0x1e37610a430>"
      ]
     },
     "execution_count": 121,
     "metadata": {},
     "output_type": "execute_result"
    }
   ],
   "source": [
    "model = Sequential()\n",
    "\n",
    "model.add(Dense(8, activation=\"relu\", input_dim = 7))\n",
    "model.add(Dense(16, activation=\"relu\"))\n",
    "model.add(Dense(8, activation=\"relu\"))\n",
    "model.add(Dense(1, activation=\"sigmoid\"))\n",
    "model.compile(Adam(learning_rate=0.01), loss = \"binary_crossentropy\", metrics=[\"accuracy\"])\n",
    "model.fit(X_train, y_train, epochs=100)"
   ]
  },
  {
   "cell_type": "code",
   "execution_count": 122,
   "id": "ad6fd25c",
   "metadata": {},
   "outputs": [
    {
     "name": "stdout",
     "output_type": "stream",
     "text": [
      "174/174 [==============================] - 0s 887us/step - loss: 0.2404 - accuracy: 0.8772\n"
     ]
    }
   ],
   "source": [
    "acc,loss = model.evaluate(X_test,y_test)"
   ]
  },
  {
   "cell_type": "code",
   "execution_count": 42,
   "id": "330c2efc",
   "metadata": {},
   "outputs": [],
   "source": [
    "modeljson = model.to_json()\n",
    "obj=open(\"D:/Datasets/LiverDisease.json\",\"w\")\n",
    "obj.write(modeljson)\n",
    "obj.close()\n",
    "model.save_weights(\"D:/Datasets/LiverDisease.h5\")"
   ]
  },
  {
   "cell_type": "code",
   "execution_count": null,
   "id": "69f2651c",
   "metadata": {},
   "outputs": [],
   "source": [
    "from tensorflow.keras.models import model_from_json\n",
    "abc=open(\"D:/Datasets/LiverDisease.json\",\"r\")\n",
    "loaded_data=abc.read()\n",
    "model=model_from_json(loaded_data)\n",
    "model.load_weights(\"D:/Datasets/LiverDisease.h5\")"
   ]
  },
  {
   "cell_type": "code",
   "execution_count": 123,
   "id": "113b3ff8",
   "metadata": {},
   "outputs": [
    {
     "data": {
      "text/plain": [
       "array([[0.]], dtype=float32)"
      ]
     },
     "execution_count": 123,
     "metadata": {},
     "output_type": "execute_result"
    }
   ],
   "source": [
    "lst = [0.9,0.3,650,61,7.4,4.1,1.2]\n",
    "arr = model.predict(np.array([lst,]))\n",
    "arr"
   ]
  },
  {
   "cell_type": "markdown",
   "id": "d1bf9d2f",
   "metadata": {},
   "source": [
    "# KIDNEY DISEASE"
   ]
  },
  {
   "cell_type": "code",
   "execution_count": 43,
   "id": "7365d41b",
   "metadata": {},
   "outputs": [],
   "source": [
    "df=pd.read_csv('E:/Downloads/disease detection/kidney.csv', encoding = 'unicode_escape')"
   ]
  },
  {
   "cell_type": "code",
   "execution_count": 44,
   "id": "dffefbef",
   "metadata": {},
   "outputs": [
    {
     "data": {
      "text/html": [
       "<div>\n",
       "<style scoped>\n",
       "    .dataframe tbody tr th:only-of-type {\n",
       "        vertical-align: middle;\n",
       "    }\n",
       "\n",
       "    .dataframe tbody tr th {\n",
       "        vertical-align: top;\n",
       "    }\n",
       "\n",
       "    .dataframe thead th {\n",
       "        text-align: right;\n",
       "    }\n",
       "</style>\n",
       "<table border=\"1\" class=\"dataframe\">\n",
       "  <thead>\n",
       "    <tr style=\"text-align: right;\">\n",
       "      <th></th>\n",
       "      <th>blood pressure</th>\n",
       "      <th>specific gravity</th>\n",
       "      <th>albumin</th>\n",
       "      <th>blood sugar</th>\n",
       "      <th>blood urea</th>\n",
       "      <th>hemoglobin</th>\n",
       "      <th>white blood cells</th>\n",
       "      <th>red blood cells</th>\n",
       "      <th>Class</th>\n",
       "    </tr>\n",
       "  </thead>\n",
       "  <tbody>\n",
       "    <tr>\n",
       "      <th>0</th>\n",
       "      <td>80</td>\n",
       "      <td>1.020</td>\n",
       "      <td>1</td>\n",
       "      <td>0</td>\n",
       "      <td>36.0</td>\n",
       "      <td>15.4</td>\n",
       "      <td>7800</td>\n",
       "      <td>5.20</td>\n",
       "      <td>1</td>\n",
       "    </tr>\n",
       "    <tr>\n",
       "      <th>1</th>\n",
       "      <td>50</td>\n",
       "      <td>1.020</td>\n",
       "      <td>4</td>\n",
       "      <td>0</td>\n",
       "      <td>18.0</td>\n",
       "      <td>11.3</td>\n",
       "      <td>6000</td>\n",
       "      <td>4.71</td>\n",
       "      <td>1</td>\n",
       "    </tr>\n",
       "    <tr>\n",
       "      <th>2</th>\n",
       "      <td>80</td>\n",
       "      <td>1.010</td>\n",
       "      <td>2</td>\n",
       "      <td>3</td>\n",
       "      <td>53.0</td>\n",
       "      <td>9.6</td>\n",
       "      <td>7500</td>\n",
       "      <td>4.71</td>\n",
       "      <td>1</td>\n",
       "    </tr>\n",
       "    <tr>\n",
       "      <th>3</th>\n",
       "      <td>70</td>\n",
       "      <td>1.005</td>\n",
       "      <td>4</td>\n",
       "      <td>0</td>\n",
       "      <td>56.0</td>\n",
       "      <td>11.2</td>\n",
       "      <td>6700</td>\n",
       "      <td>3.90</td>\n",
       "      <td>1</td>\n",
       "    </tr>\n",
       "    <tr>\n",
       "      <th>4</th>\n",
       "      <td>80</td>\n",
       "      <td>1.010</td>\n",
       "      <td>2</td>\n",
       "      <td>0</td>\n",
       "      <td>26.0</td>\n",
       "      <td>11.6</td>\n",
       "      <td>7300</td>\n",
       "      <td>4.60</td>\n",
       "      <td>1</td>\n",
       "    </tr>\n",
       "  </tbody>\n",
       "</table>\n",
       "</div>"
      ],
      "text/plain": [
       "   blood pressure  specific gravity  albumin  blood sugar  blood urea  \\\n",
       "0              80             1.020        1            0        36.0   \n",
       "1              50             1.020        4            0        18.0   \n",
       "2              80             1.010        2            3        53.0   \n",
       "3              70             1.005        4            0        56.0   \n",
       "4              80             1.010        2            0        26.0   \n",
       "\n",
       "   hemoglobin  white blood cells  red blood cells  Class  \n",
       "0        15.4               7800             5.20      1  \n",
       "1        11.3               6000             4.71      1  \n",
       "2         9.6               7500             4.71      1  \n",
       "3        11.2               6700             3.90      1  \n",
       "4        11.6               7300             4.60      1  "
      ]
     },
     "execution_count": 44,
     "metadata": {},
     "output_type": "execute_result"
    }
   ],
   "source": [
    "df.head()"
   ]
  },
  {
   "cell_type": "code",
   "execution_count": 45,
   "id": "6faee1ff",
   "metadata": {},
   "outputs": [
    {
     "data": {
      "text/plain": [
       "blood pressure       0\n",
       "specific gravity     0\n",
       "albumin              0\n",
       "blood sugar          0\n",
       "blood urea           0\n",
       "hemoglobin           0\n",
       "white blood cells    0\n",
       "red blood cells      0\n",
       "Class                0\n",
       "dtype: int64"
      ]
     },
     "execution_count": 45,
     "metadata": {},
     "output_type": "execute_result"
    }
   ],
   "source": [
    "df.isnull().sum()"
   ]
  },
  {
   "cell_type": "code",
   "execution_count": 46,
   "id": "db840a19",
   "metadata": {},
   "outputs": [],
   "source": [
    "X = df[['blood pressure', 'specific gravity', 'albumin', 'blood sugar', 'blood urea', 'hemoglobin', 'white blood cells', 'red blood cells']].values\n",
    "Y = df['Class']"
   ]
  },
  {
   "cell_type": "code",
   "execution_count": 47,
   "id": "20d1005f",
   "metadata": {},
   "outputs": [],
   "source": [
    "X=preprocessing.StandardScaler().fit(X).transform(X.astype(float))"
   ]
  },
  {
   "cell_type": "code",
   "execution_count": 48,
   "id": "54a3d2e5",
   "metadata": {},
   "outputs": [
    {
     "name": "stdout",
     "output_type": "stream",
     "text": [
      "Train set: (320, 8) (320,)\n",
      "Test set: (80, 8) (80,)\n"
     ]
    }
   ],
   "source": [
    "from sklearn.model_selection import train_test_split\n",
    "X_train, X_test, y_train, y_test = train_test_split( X, Y, test_size=0.2, random_state=4)\n",
    "print ('Train set:', X_train.shape,  y_train.shape)\n",
    "print ('Test set:', X_test.shape,  y_test.shape)"
   ]
  },
  {
   "cell_type": "code",
   "execution_count": 50,
   "id": "8ce79815",
   "metadata": {},
   "outputs": [
    {
     "name": "stdout",
     "output_type": "stream",
     "text": [
      "Epoch 1/100\n",
      "10/10 [==============================] - 0s 2ms/step - loss: 0.5233 - accuracy: 0.8469\n",
      "Epoch 2/100\n",
      "10/10 [==============================] - 0s 2ms/step - loss: 0.2368 - accuracy: 0.9719\n",
      "Epoch 3/100\n",
      "10/10 [==============================] - 0s 1ms/step - loss: 0.0920 - accuracy: 0.9812\n",
      "Epoch 4/100\n",
      "10/10 [==============================] - 0s 2ms/step - loss: 0.0494 - accuracy: 0.9812\n",
      "Epoch 5/100\n",
      "10/10 [==============================] - 0s 2ms/step - loss: 0.0426 - accuracy: 0.9781\n",
      "Epoch 6/100\n",
      "10/10 [==============================] - 0s 2ms/step - loss: 0.0368 - accuracy: 0.9875\n",
      "Epoch 7/100\n",
      "10/10 [==============================] - 0s 2ms/step - loss: 0.0362 - accuracy: 0.9875\n",
      "Epoch 8/100\n",
      "10/10 [==============================] - 0s 2ms/step - loss: 0.0321 - accuracy: 0.9812\n",
      "Epoch 9/100\n",
      "10/10 [==============================] - 0s 1ms/step - loss: 0.0249 - accuracy: 0.9906\n",
      "Epoch 10/100\n",
      "10/10 [==============================] - 0s 2ms/step - loss: 0.0258 - accuracy: 0.9875\n",
      "Epoch 11/100\n",
      "10/10 [==============================] - 0s 1ms/step - loss: 0.0224 - accuracy: 0.9906\n",
      "Epoch 12/100\n",
      "10/10 [==============================] - 0s 1ms/step - loss: 0.0230 - accuracy: 0.9906\n",
      "Epoch 13/100\n",
      "10/10 [==============================] - 0s 328us/step - loss: 0.0213 - accuracy: 0.9906\n",
      "Epoch 14/100\n",
      "10/10 [==============================] - 0s 2ms/step - loss: 0.0207 - accuracy: 0.9906\n",
      "Epoch 15/100\n",
      "10/10 [==============================] - 0s 2ms/step - loss: 0.0240 - accuracy: 0.9906\n",
      "Epoch 16/100\n",
      "10/10 [==============================] - 0s 2ms/step - loss: 0.0244 - accuracy: 0.9937\n",
      "Epoch 17/100\n",
      "10/10 [==============================] - 0s 2ms/step - loss: 0.0192 - accuracy: 0.9937\n",
      "Epoch 18/100\n",
      "10/10 [==============================] - 0s 2ms/step - loss: 0.0199 - accuracy: 0.9906\n",
      "Epoch 19/100\n",
      "10/10 [==============================] - 0s 2ms/step - loss: 0.0207 - accuracy: 0.9844\n",
      "Epoch 20/100\n",
      "10/10 [==============================] - 0s 1ms/step - loss: 0.0206 - accuracy: 0.9875\n",
      "Epoch 21/100\n",
      "10/10 [==============================] - 0s 2ms/step - loss: 0.0219 - accuracy: 0.9906\n",
      "Epoch 22/100\n",
      "10/10 [==============================] - 0s 400us/step - loss: 0.0243 - accuracy: 0.9906\n",
      "Epoch 23/100\n",
      "10/10 [==============================] - 0s 624us/step - loss: 0.0209 - accuracy: 0.9875\n",
      "Epoch 24/100\n",
      "10/10 [==============================] - 0s 2ms/step - loss: 0.0164 - accuracy: 0.9937\n",
      "Epoch 25/100\n",
      "10/10 [==============================] - 0s 344us/step - loss: 0.0165 - accuracy: 0.9937\n",
      "Epoch 26/100\n",
      "10/10 [==============================] - 0s 456us/step - loss: 0.0224 - accuracy: 0.9906\n",
      "Epoch 27/100\n",
      "10/10 [==============================] - 0s 2ms/step - loss: 0.0175 - accuracy: 0.9875\n",
      "Epoch 28/100\n",
      "10/10 [==============================] - 0s 2ms/step - loss: 0.0176 - accuracy: 0.9969\n",
      "Epoch 29/100\n",
      "10/10 [==============================] - 0s 2ms/step - loss: 0.0216 - accuracy: 0.9906\n",
      "Epoch 30/100\n",
      "10/10 [==============================] - 0s 2ms/step - loss: 0.0227 - accuracy: 0.9906\n",
      "Epoch 31/100\n",
      "10/10 [==============================] - 0s 2ms/step - loss: 0.0164 - accuracy: 0.9906\n",
      "Epoch 32/100\n",
      "10/10 [==============================] - 0s 1ms/step - loss: 0.0164 - accuracy: 0.9937\n",
      "Epoch 33/100\n",
      "10/10 [==============================] - 0s 1ms/step - loss: 0.0137 - accuracy: 0.9937\n",
      "Epoch 34/100\n",
      "10/10 [==============================] - 0s 1ms/step - loss: 0.0170 - accuracy: 0.9906\n",
      "Epoch 35/100\n",
      "10/10 [==============================] - 0s 2ms/step - loss: 0.0167 - accuracy: 0.9937\n",
      "Epoch 36/100\n",
      "10/10 [==============================] - 0s 340us/step - loss: 0.0143 - accuracy: 0.9937\n",
      "Epoch 37/100\n",
      "10/10 [==============================] - 0s 400us/step - loss: 0.0189 - accuracy: 0.9937\n",
      "Epoch 38/100\n",
      "10/10 [==============================] - 0s 499us/step - loss: 0.0215 - accuracy: 0.9875\n",
      "Epoch 39/100\n",
      "10/10 [==============================] - 0s 584us/step - loss: 0.0143 - accuracy: 0.9937\n",
      "Epoch 40/100\n",
      "10/10 [==============================] - 0s 2ms/step - loss: 0.0152 - accuracy: 0.9937\n",
      "Epoch 41/100\n",
      "10/10 [==============================] - 0s 2ms/step - loss: 0.0124 - accuracy: 0.9937\n",
      "Epoch 42/100\n",
      "10/10 [==============================] - 0s 1ms/step - loss: 0.0162 - accuracy: 0.9906\n",
      "Epoch 43/100\n",
      "10/10 [==============================] - 0s 1ms/step - loss: 0.0146 - accuracy: 0.9937\n",
      "Epoch 44/100\n",
      "10/10 [==============================] - 0s 2ms/step - loss: 0.0191 - accuracy: 0.9937\n",
      "Epoch 45/100\n",
      "10/10 [==============================] - 0s 1ms/step - loss: 0.0227 - accuracy: 0.9875\n",
      "Epoch 46/100\n",
      "10/10 [==============================] - 0s 197us/step - loss: 0.0111 - accuracy: 0.9969\n",
      "Epoch 47/100\n",
      "10/10 [==============================] - 0s 496us/step - loss: 0.0138 - accuracy: 0.9906\n",
      "Epoch 48/100\n",
      "10/10 [==============================] - 0s 1ms/step - loss: 0.0111 - accuracy: 0.9937\n",
      "Epoch 49/100\n",
      "10/10 [==============================] - 0s 2ms/step - loss: 0.0141 - accuracy: 0.9937\n",
      "Epoch 50/100\n",
      "10/10 [==============================] - 0s 2ms/step - loss: 0.0157 - accuracy: 0.9906\n",
      "Epoch 51/100\n",
      "10/10 [==============================] - 0s 1ms/step - loss: 0.0160 - accuracy: 0.9937\n",
      "Epoch 52/100\n",
      "10/10 [==============================] - 0s 1ms/step - loss: 0.0102 - accuracy: 0.9937\n",
      "Epoch 53/100\n",
      "10/10 [==============================] - 0s 1ms/step - loss: 0.0233 - accuracy: 0.9906\n",
      "Epoch 54/100\n",
      "10/10 [==============================] - 0s 1ms/step - loss: 0.0212 - accuracy: 0.9937\n",
      "Epoch 55/100\n",
      "10/10 [==============================] - 0s 582us/step - loss: 0.0158 - accuracy: 0.9906\n",
      "Epoch 56/100\n",
      "10/10 [==============================] - 0s 946us/step - loss: 0.0165 - accuracy: 0.9906\n",
      "Epoch 57/100\n",
      "10/10 [==============================] - 0s 2ms/step - loss: 0.0119 - accuracy: 0.9906\n",
      "Epoch 58/100\n",
      "10/10 [==============================] - 0s 1ms/step - loss: 0.0117 - accuracy: 0.9937\n",
      "Epoch 59/100\n",
      "10/10 [==============================] - 0s 1ms/step - loss: 0.0093 - accuracy: 0.9969\n",
      "Epoch 60/100\n",
      "10/10 [==============================] - 0s 555us/step - loss: 0.0134 - accuracy: 0.9906\n",
      "Epoch 61/100\n",
      "10/10 [==============================] - 0s 954us/step - loss: 0.0150 - accuracy: 0.9937\n",
      "Epoch 62/100\n",
      "10/10 [==============================] - 0s 2ms/step - loss: 0.0147 - accuracy: 0.9906\n",
      "Epoch 63/100\n",
      "10/10 [==============================] - 0s 1ms/step - loss: 0.0105 - accuracy: 0.9937\n",
      "Epoch 64/100\n",
      "10/10 [==============================] - 0s 1ms/step - loss: 0.0131 - accuracy: 0.9906\n",
      "Epoch 65/100\n",
      "10/10 [==============================] - 0s 1ms/step - loss: 0.0088 - accuracy: 0.9937\n",
      "Epoch 66/100\n",
      "10/10 [==============================] - 0s 1ms/step - loss: 0.0110 - accuracy: 0.9969\n",
      "Epoch 67/100\n",
      "10/10 [==============================] - 0s 743us/step - loss: 0.0104 - accuracy: 0.9969\n",
      "Epoch 68/100\n",
      "10/10 [==============================] - 0s 1ms/step - loss: 0.0101 - accuracy: 0.9937\n",
      "Epoch 69/100\n",
      "10/10 [==============================] - 0s 2ms/step - loss: 0.0141 - accuracy: 0.9969\n",
      "Epoch 70/100\n",
      "10/10 [==============================] - 0s 1ms/step - loss: 0.0122 - accuracy: 0.9906\n",
      "Epoch 71/100\n",
      "10/10 [==============================] - 0s 1ms/step - loss: 0.0097 - accuracy: 0.9906\n",
      "Epoch 72/100\n",
      "10/10 [==============================] - 0s 791us/step - loss: 0.0125 - accuracy: 0.9937\n",
      "Epoch 73/100\n",
      "10/10 [==============================] - 0s 2ms/step - loss: 0.0066 - accuracy: 0.9969\n",
      "Epoch 74/100\n",
      "10/10 [==============================] - 0s 1ms/step - loss: 0.0083 - accuracy: 0.9969\n",
      "Epoch 75/100\n",
      "10/10 [==============================] - 0s 971us/step - loss: 0.0080 - accuracy: 1.0000\n",
      "Epoch 76/100\n",
      "10/10 [==============================] - 0s 1ms/step - loss: 0.0079 - accuracy: 1.0000\n",
      "Epoch 77/100\n",
      "10/10 [==============================] - 0s 639us/step - loss: 0.0054 - accuracy: 1.0000\n",
      "Epoch 78/100\n",
      "10/10 [==============================] - 0s 950us/step - loss: 0.0067 - accuracy: 1.0000\n",
      "Epoch 79/100\n",
      "10/10 [==============================] - 0s 1ms/step - loss: 0.0098 - accuracy: 1.0000\n",
      "Epoch 80/100\n",
      "10/10 [==============================] - 0s 1ms/step - loss: 0.0132 - accuracy: 0.9969\n",
      "Epoch 81/100\n",
      "10/10 [==============================] - 0s 1ms/step - loss: 0.0074 - accuracy: 0.9969\n",
      "Epoch 82/100\n",
      "10/10 [==============================] - 0s 1ms/step - loss: 0.0057 - accuracy: 1.0000\n",
      "Epoch 83/100\n",
      "10/10 [==============================] - 0s 754us/step - loss: 0.0090 - accuracy: 0.9937\n",
      "Epoch 84/100\n",
      "10/10 [==============================] - 0s 935us/step - loss: 0.0071 - accuracy: 0.9969\n",
      "Epoch 85/100\n",
      "10/10 [==============================] - 0s 2ms/step - loss: 0.0082 - accuracy: 0.9969\n",
      "Epoch 86/100\n",
      "10/10 [==============================] - 0s 2ms/step - loss: 0.0066 - accuracy: 0.9969\n",
      "Epoch 87/100\n",
      "10/10 [==============================] - 0s 2ms/step - loss: 0.0047 - accuracy: 1.0000\n",
      "Epoch 88/100\n",
      "10/10 [==============================] - 0s 1ms/step - loss: 0.0045 - accuracy: 1.0000\n",
      "Epoch 89/100\n",
      "10/10 [==============================] - 0s 549us/step - loss: 0.0041 - accuracy: 1.0000\n",
      "Epoch 90/100\n",
      "10/10 [==============================] - 0s 816us/step - loss: 0.0039 - accuracy: 0.9969\n",
      "Epoch 91/100\n",
      "10/10 [==============================] - 0s 2ms/step - loss: 0.0037 - accuracy: 1.0000\n",
      "Epoch 92/100\n",
      "10/10 [==============================] - 0s 2ms/step - loss: 0.0047 - accuracy: 0.9969\n",
      "Epoch 93/100\n",
      "10/10 [==============================] - 0s 1ms/step - loss: 0.0040 - accuracy: 0.9969\n",
      "Epoch 94/100\n",
      "10/10 [==============================] - 0s 1ms/step - loss: 0.0029 - accuracy: 1.0000\n",
      "Epoch 95/100\n",
      "10/10 [==============================] - 0s 1ms/step - loss: 0.0036 - accuracy: 1.0000\n",
      "Epoch 96/100\n",
      "10/10 [==============================] - 0s 1ms/step - loss: 0.0037 - accuracy: 1.0000\n",
      "Epoch 97/100\n",
      "10/10 [==============================] - 0s 1ms/step - loss: 0.0042 - accuracy: 0.9969\n",
      "Epoch 98/100\n",
      "10/10 [==============================] - 0s 1ms/step - loss: 0.0031 - accuracy: 1.0000\n",
      "Epoch 99/100\n",
      "10/10 [==============================] - 0s 687us/step - loss: 0.0039 - accuracy: 0.9969\n",
      "Epoch 100/100\n",
      "10/10 [==============================] - 0s 720us/step - loss: 0.0030 - accuracy: 1.0000\n"
     ]
    },
    {
     "data": {
      "text/plain": [
       "<keras.callbacks.History at 0x1e37340c340>"
      ]
     },
     "execution_count": 50,
     "metadata": {},
     "output_type": "execute_result"
    }
   ],
   "source": [
    "model = Sequential()\n",
    "\n",
    "model.add(Dense(8, activation=\"relu\", input_dim = 8))\n",
    "model.add(Dense(16, activation=\"relu\"))\n",
    "model.add(Dense(8, activation=\"relu\"))\n",
    "model.add(Dense(1, activation=\"sigmoid\"))\n",
    "model.compile(Adam(learning_rate=0.01), loss = \"binary_crossentropy\", metrics=[\"accuracy\"])\n",
    "model.fit(X_train, y_train, epochs=100)"
   ]
  },
  {
   "cell_type": "code",
   "execution_count": 51,
   "id": "40a298e2",
   "metadata": {},
   "outputs": [
    {
     "name": "stdout",
     "output_type": "stream",
     "text": [
      "3/3 [==============================] - 0s 3ms/step - loss: 0.2162 - accuracy: 0.9750\n"
     ]
    }
   ],
   "source": [
    "acc,loss = model.evaluate(X_test,y_test)"
   ]
  },
  {
   "cell_type": "code",
   "execution_count": 52,
   "id": "0be9adb5",
   "metadata": {},
   "outputs": [],
   "source": [
    "modeljson = model.to_json()\n",
    "obj=open(\"D:/Datasets/KidneyDisease.json\",\"w\")\n",
    "obj.write(modeljson)\n",
    "obj.close()\n",
    "model.save_weights(\"D:/Datasets/KidneyDisease.h5\")"
   ]
  },
  {
   "cell_type": "code",
   "execution_count": null,
   "id": "013e13df",
   "metadata": {},
   "outputs": [],
   "source": []
  }
 ],
 "metadata": {
  "kernelspec": {
   "display_name": "Python 3 (ipykernel)",
   "language": "python",
   "name": "python3"
  },
  "language_info": {
   "codemirror_mode": {
    "name": "ipython",
    "version": 3
   },
   "file_extension": ".py",
   "mimetype": "text/x-python",
   "name": "python",
   "nbconvert_exporter": "python",
   "pygments_lexer": "ipython3",
   "version": "3.9.7"
  }
 },
 "nbformat": 4,
 "nbformat_minor": 5
}
